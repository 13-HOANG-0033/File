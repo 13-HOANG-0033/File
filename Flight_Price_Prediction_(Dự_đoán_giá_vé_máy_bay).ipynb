{
  "cells": [
    {
      "cell_type": "markdown",
      "metadata": {
        "id": "view-in-github",
        "colab_type": "text"
      },
      "source": [
        "<a href=\"https://colab.research.google.com/github/lha2326/File/blob/main/Flight_Price_Prediction_(D%E1%BB%B1_%C4%91o%C3%A1n_gi%C3%A1_v%C3%A9_m%C3%A1y_bay).ipynb\" target=\"_parent\"><img src=\"https://colab.research.google.com/assets/colab-badge.svg\" alt=\"Open In Colab\"/></a>"
      ]
    },
    {
      "cell_type": "markdown",
      "metadata": {
        "id": "SwWJK72o4dqR"
      },
      "source": [
        "# I. Khảo sát và tiền xử lý dữ liệu"
      ]
    },
    {
      "cell_type": "markdown",
      "metadata": {
        "id": "m0FfdrpP30_G"
      },
      "source": [
        "## **1. Giới thiệu**"
      ]
    },
    {
      "cell_type": "markdown",
      "metadata": {
        "id": "B2RtP4DH337N"
      },
      "source": [
        "\n",
        "Bộ dữ liệu **\"Flight Price Prediction\"** được lấy từ [Kaggle](https://www.kaggle.com/datasets/shubhambathwal/flight-price-prediction?resource=download)\n",
        ". Dữ liệu gồm 300,153 dòng tương ứng với mỗi lượt đặt vé. Trong đó, có 1 cột STT và 11 biến thông tin về vé máy bay.\n",
        "\n",
        "1.   Hãng hàng không (airline)\n",
        "2.   Mã chuyến bay (flight)\n",
        "3.   Thành phố khởi hành (source city)\n",
        "4.   Thời gian khởi hành (departure time)\n",
        "5.   Số lượt trung chuyển (stops)\n",
        "6.   Thời gian đến (arrival time)\n",
        "7.   Thành phố đến (destination city)\n",
        "8.   Hạng vé (class): Hạng thường - Economy và hạng thương gia - Business\n",
        "9.   Thời gian bay (duration)\n",
        "10.  Số ngày còn lại (days left): Ngày đặt vé - Ngày khởi hành của chuyến bay\n",
        "11.  Giá vé (price).\n"
      ]
    },
    {
      "cell_type": "markdown",
      "metadata": {
        "id": "9GFXFdY_0FJB"
      },
      "source": [
        "## **2. Khảo sát dữ liệu**\n"
      ]
    },
    {
      "cell_type": "markdown",
      "metadata": {
        "id": "TvW-g3hP5ez7"
      },
      "source": [
        "Bên dưới ta sẽ kiểm tra số trường và kích thước mẫu"
      ]
    },
    {
      "cell_type": "markdown",
      "metadata": {
        "id": "9HxQs9uB5Hpu"
      },
      "source": [
        "### Import thư viện\n"
      ]
    },
    {
      "cell_type": "code",
      "execution_count": null,
      "metadata": {
        "id": "tGmR-4jBmEhT"
      },
      "outputs": [],
      "source": [
        "import pandas as pd\n",
        "import numpy as np\n",
        "import sklearn\n",
        "import matplotlib.pyplot as plt\n",
        "import seaborn as sns"
      ]
    },
    {
      "cell_type": "markdown",
      "metadata": {
        "id": "x4kBCgYB5oC6"
      },
      "source": [
        "### Tổng quan dữ liệu"
      ]
    },
    {
      "cell_type": "code",
      "execution_count": null,
      "metadata": {
        "id": "O7yPE3ww0VHH"
      },
      "outputs": [],
      "source": [
        "# Import Data\n",
        "link = 'https://raw.githubusercontent.com/Pegah-Ardehkhani/Flight-Price-EDA-and-Prediction/main/data/Clean_Dataset.csv'\n",
        "df = pd.read_csv(link,encoding= 'unicode_escape')"
      ]
    },
    {
      "cell_type": "code",
      "execution_count": null,
      "metadata": {
        "colab": {
          "base_uri": "https://localhost:8080/",
          "height": 224
        },
        "id": "M0BZJ0J021yg",
        "outputId": "57b7c348-fd9a-4d7f-9c8c-d9aa5a1c0d93"
      },
      "outputs": [
        {
          "output_type": "stream",
          "name": "stdout",
          "text": [
            "Data shape:  (300153, 12)\n"
          ]
        },
        {
          "output_type": "execute_result",
          "data": {
            "text/plain": [
              "   Unnamed: 0   airline   flight source_city departure_time stops  \\\n",
              "0           0  SpiceJet  SG-8709       Delhi        Evening  zero   \n",
              "1           1  SpiceJet  SG-8157       Delhi  Early_Morning  zero   \n",
              "2           2   AirAsia   I5-764       Delhi  Early_Morning  zero   \n",
              "3           3   Vistara   UK-995       Delhi        Morning  zero   \n",
              "4           4   Vistara   UK-963       Delhi        Morning  zero   \n",
              "\n",
              "    arrival_time destination_city    class  duration  days_left  price  \n",
              "0          Night           Mumbai  Economy      2.17          1   5953  \n",
              "1        Morning           Mumbai  Economy      2.33          1   5953  \n",
              "2  Early_Morning           Mumbai  Economy      2.17          1   5956  \n",
              "3      Afternoon           Mumbai  Economy      2.25          1   5955  \n",
              "4        Morning           Mumbai  Economy      2.33          1   5955  "
            ],
            "text/html": [
              "\n",
              "  <div id=\"df-e53122e1-8653-49aa-a0cc-7006cd36d3d4\">\n",
              "    <div class=\"colab-df-container\">\n",
              "      <div>\n",
              "<style scoped>\n",
              "    .dataframe tbody tr th:only-of-type {\n",
              "        vertical-align: middle;\n",
              "    }\n",
              "\n",
              "    .dataframe tbody tr th {\n",
              "        vertical-align: top;\n",
              "    }\n",
              "\n",
              "    .dataframe thead th {\n",
              "        text-align: right;\n",
              "    }\n",
              "</style>\n",
              "<table border=\"1\" class=\"dataframe\">\n",
              "  <thead>\n",
              "    <tr style=\"text-align: right;\">\n",
              "      <th></th>\n",
              "      <th>Unnamed: 0</th>\n",
              "      <th>airline</th>\n",
              "      <th>flight</th>\n",
              "      <th>source_city</th>\n",
              "      <th>departure_time</th>\n",
              "      <th>stops</th>\n",
              "      <th>arrival_time</th>\n",
              "      <th>destination_city</th>\n",
              "      <th>class</th>\n",
              "      <th>duration</th>\n",
              "      <th>days_left</th>\n",
              "      <th>price</th>\n",
              "    </tr>\n",
              "  </thead>\n",
              "  <tbody>\n",
              "    <tr>\n",
              "      <th>0</th>\n",
              "      <td>0</td>\n",
              "      <td>SpiceJet</td>\n",
              "      <td>SG-8709</td>\n",
              "      <td>Delhi</td>\n",
              "      <td>Evening</td>\n",
              "      <td>zero</td>\n",
              "      <td>Night</td>\n",
              "      <td>Mumbai</td>\n",
              "      <td>Economy</td>\n",
              "      <td>2.17</td>\n",
              "      <td>1</td>\n",
              "      <td>5953</td>\n",
              "    </tr>\n",
              "    <tr>\n",
              "      <th>1</th>\n",
              "      <td>1</td>\n",
              "      <td>SpiceJet</td>\n",
              "      <td>SG-8157</td>\n",
              "      <td>Delhi</td>\n",
              "      <td>Early_Morning</td>\n",
              "      <td>zero</td>\n",
              "      <td>Morning</td>\n",
              "      <td>Mumbai</td>\n",
              "      <td>Economy</td>\n",
              "      <td>2.33</td>\n",
              "      <td>1</td>\n",
              "      <td>5953</td>\n",
              "    </tr>\n",
              "    <tr>\n",
              "      <th>2</th>\n",
              "      <td>2</td>\n",
              "      <td>AirAsia</td>\n",
              "      <td>I5-764</td>\n",
              "      <td>Delhi</td>\n",
              "      <td>Early_Morning</td>\n",
              "      <td>zero</td>\n",
              "      <td>Early_Morning</td>\n",
              "      <td>Mumbai</td>\n",
              "      <td>Economy</td>\n",
              "      <td>2.17</td>\n",
              "      <td>1</td>\n",
              "      <td>5956</td>\n",
              "    </tr>\n",
              "    <tr>\n",
              "      <th>3</th>\n",
              "      <td>3</td>\n",
              "      <td>Vistara</td>\n",
              "      <td>UK-995</td>\n",
              "      <td>Delhi</td>\n",
              "      <td>Morning</td>\n",
              "      <td>zero</td>\n",
              "      <td>Afternoon</td>\n",
              "      <td>Mumbai</td>\n",
              "      <td>Economy</td>\n",
              "      <td>2.25</td>\n",
              "      <td>1</td>\n",
              "      <td>5955</td>\n",
              "    </tr>\n",
              "    <tr>\n",
              "      <th>4</th>\n",
              "      <td>4</td>\n",
              "      <td>Vistara</td>\n",
              "      <td>UK-963</td>\n",
              "      <td>Delhi</td>\n",
              "      <td>Morning</td>\n",
              "      <td>zero</td>\n",
              "      <td>Morning</td>\n",
              "      <td>Mumbai</td>\n",
              "      <td>Economy</td>\n",
              "      <td>2.33</td>\n",
              "      <td>1</td>\n",
              "      <td>5955</td>\n",
              "    </tr>\n",
              "  </tbody>\n",
              "</table>\n",
              "</div>\n",
              "      <button class=\"colab-df-convert\" onclick=\"convertToInteractive('df-e53122e1-8653-49aa-a0cc-7006cd36d3d4')\"\n",
              "              title=\"Convert this dataframe to an interactive table.\"\n",
              "              style=\"display:none;\">\n",
              "        \n",
              "  <svg xmlns=\"http://www.w3.org/2000/svg\" height=\"24px\"viewBox=\"0 0 24 24\"\n",
              "       width=\"24px\">\n",
              "    <path d=\"M0 0h24v24H0V0z\" fill=\"none\"/>\n",
              "    <path d=\"M18.56 5.44l.94 2.06.94-2.06 2.06-.94-2.06-.94-.94-2.06-.94 2.06-2.06.94zm-11 1L8.5 8.5l.94-2.06 2.06-.94-2.06-.94L8.5 2.5l-.94 2.06-2.06.94zm10 10l.94 2.06.94-2.06 2.06-.94-2.06-.94-.94-2.06-.94 2.06-2.06.94z\"/><path d=\"M17.41 7.96l-1.37-1.37c-.4-.4-.92-.59-1.43-.59-.52 0-1.04.2-1.43.59L10.3 9.45l-7.72 7.72c-.78.78-.78 2.05 0 2.83L4 21.41c.39.39.9.59 1.41.59.51 0 1.02-.2 1.41-.59l7.78-7.78 2.81-2.81c.8-.78.8-2.07 0-2.86zM5.41 20L4 18.59l7.72-7.72 1.47 1.35L5.41 20z\"/>\n",
              "  </svg>\n",
              "      </button>\n",
              "      \n",
              "  <style>\n",
              "    .colab-df-container {\n",
              "      display:flex;\n",
              "      flex-wrap:wrap;\n",
              "      gap: 12px;\n",
              "    }\n",
              "\n",
              "    .colab-df-convert {\n",
              "      background-color: #E8F0FE;\n",
              "      border: none;\n",
              "      border-radius: 50%;\n",
              "      cursor: pointer;\n",
              "      display: none;\n",
              "      fill: #1967D2;\n",
              "      height: 32px;\n",
              "      padding: 0 0 0 0;\n",
              "      width: 32px;\n",
              "    }\n",
              "\n",
              "    .colab-df-convert:hover {\n",
              "      background-color: #E2EBFA;\n",
              "      box-shadow: 0px 1px 2px rgba(60, 64, 67, 0.3), 0px 1px 3px 1px rgba(60, 64, 67, 0.15);\n",
              "      fill: #174EA6;\n",
              "    }\n",
              "\n",
              "    [theme=dark] .colab-df-convert {\n",
              "      background-color: #3B4455;\n",
              "      fill: #D2E3FC;\n",
              "    }\n",
              "\n",
              "    [theme=dark] .colab-df-convert:hover {\n",
              "      background-color: #434B5C;\n",
              "      box-shadow: 0px 1px 3px 1px rgba(0, 0, 0, 0.15);\n",
              "      filter: drop-shadow(0px 1px 2px rgba(0, 0, 0, 0.3));\n",
              "      fill: #FFFFFF;\n",
              "    }\n",
              "  </style>\n",
              "\n",
              "      <script>\n",
              "        const buttonEl =\n",
              "          document.querySelector('#df-e53122e1-8653-49aa-a0cc-7006cd36d3d4 button.colab-df-convert');\n",
              "        buttonEl.style.display =\n",
              "          google.colab.kernel.accessAllowed ? 'block' : 'none';\n",
              "\n",
              "        async function convertToInteractive(key) {\n",
              "          const element = document.querySelector('#df-e53122e1-8653-49aa-a0cc-7006cd36d3d4');\n",
              "          const dataTable =\n",
              "            await google.colab.kernel.invokeFunction('convertToInteractive',\n",
              "                                                     [key], {});\n",
              "          if (!dataTable) return;\n",
              "\n",
              "          const docLinkHtml = 'Like what you see? Visit the ' +\n",
              "            '<a target=\"_blank\" href=https://colab.research.google.com/notebooks/data_table.ipynb>data table notebook</a>'\n",
              "            + ' to learn more about interactive tables.';\n",
              "          element.innerHTML = '';\n",
              "          dataTable['output_type'] = 'display_data';\n",
              "          await google.colab.output.renderOutput(dataTable, element);\n",
              "          const docLink = document.createElement('div');\n",
              "          docLink.innerHTML = docLinkHtml;\n",
              "          element.appendChild(docLink);\n",
              "        }\n",
              "      </script>\n",
              "    </div>\n",
              "  </div>\n",
              "  "
            ]
          },
          "metadata": {},
          "execution_count": 3
        }
      ],
      "source": [
        "# Đọc 5 dòng đầu tiên\n",
        "print('Data shape: ', df.shape)\n",
        "df.head()"
      ]
    },
    {
      "cell_type": "code",
      "execution_count": null,
      "metadata": {
        "colab": {
          "base_uri": "https://localhost:8080/"
        },
        "id": "V62GSKlG49UA",
        "outputId": "87da86d4-b63b-4050-f02a-da37078b2dd4"
      },
      "outputs": [
        {
          "output_type": "stream",
          "name": "stdout",
          "text": [
            "<class 'pandas.core.frame.DataFrame'>\n",
            "RangeIndex: 300153 entries, 0 to 300152\n",
            "Data columns (total 12 columns):\n",
            " #   Column            Non-Null Count   Dtype  \n",
            "---  ------            --------------   -----  \n",
            " 0   Unnamed: 0        300153 non-null  int64  \n",
            " 1   airline           300153 non-null  object \n",
            " 2   flight            300153 non-null  object \n",
            " 3   source_city       300153 non-null  object \n",
            " 4   departure_time    300153 non-null  object \n",
            " 5   stops             300153 non-null  object \n",
            " 6   arrival_time      300153 non-null  object \n",
            " 7   destination_city  300153 non-null  object \n",
            " 8   class             300153 non-null  object \n",
            " 9   duration          300153 non-null  float64\n",
            " 10  days_left         300153 non-null  int64  \n",
            " 11  price             300153 non-null  int64  \n",
            "dtypes: float64(1), int64(3), object(8)\n",
            "memory usage: 27.5+ MB\n"
          ]
        }
      ],
      "source": [
        "# Thông tin về dữ liệu\n",
        "df.info()"
      ]
    },
    {
      "cell_type": "code",
      "execution_count": null,
      "metadata": {
        "colab": {
          "base_uri": "https://localhost:8080/",
          "height": 426
        },
        "id": "J9_cj9j370ZF",
        "outputId": "09435d6e-c4b1-4e62-b89e-bfa6b9f43ca4"
      },
      "outputs": [
        {
          "output_type": "execute_result",
          "data": {
            "text/plain": [
              "                 Data Type\n",
              "Unnamed: 0           int64\n",
              "days_left            int64\n",
              "price                int64\n",
              "duration           float64\n",
              "airline             object\n",
              "flight              object\n",
              "source_city         object\n",
              "departure_time      object\n",
              "stops               object\n",
              "arrival_time        object\n",
              "destination_city    object\n",
              "class               object"
            ],
            "text/html": [
              "\n",
              "  <div id=\"df-baffd765-4c54-4616-ac78-b94151fc70e3\">\n",
              "    <div class=\"colab-df-container\">\n",
              "      <div>\n",
              "<style scoped>\n",
              "    .dataframe tbody tr th:only-of-type {\n",
              "        vertical-align: middle;\n",
              "    }\n",
              "\n",
              "    .dataframe tbody tr th {\n",
              "        vertical-align: top;\n",
              "    }\n",
              "\n",
              "    .dataframe thead th {\n",
              "        text-align: right;\n",
              "    }\n",
              "</style>\n",
              "<table border=\"1\" class=\"dataframe\">\n",
              "  <thead>\n",
              "    <tr style=\"text-align: right;\">\n",
              "      <th></th>\n",
              "      <th>Data Type</th>\n",
              "    </tr>\n",
              "  </thead>\n",
              "  <tbody>\n",
              "    <tr>\n",
              "      <th>Unnamed: 0</th>\n",
              "      <td>int64</td>\n",
              "    </tr>\n",
              "    <tr>\n",
              "      <th>days_left</th>\n",
              "      <td>int64</td>\n",
              "    </tr>\n",
              "    <tr>\n",
              "      <th>price</th>\n",
              "      <td>int64</td>\n",
              "    </tr>\n",
              "    <tr>\n",
              "      <th>duration</th>\n",
              "      <td>float64</td>\n",
              "    </tr>\n",
              "    <tr>\n",
              "      <th>airline</th>\n",
              "      <td>object</td>\n",
              "    </tr>\n",
              "    <tr>\n",
              "      <th>flight</th>\n",
              "      <td>object</td>\n",
              "    </tr>\n",
              "    <tr>\n",
              "      <th>source_city</th>\n",
              "      <td>object</td>\n",
              "    </tr>\n",
              "    <tr>\n",
              "      <th>departure_time</th>\n",
              "      <td>object</td>\n",
              "    </tr>\n",
              "    <tr>\n",
              "      <th>stops</th>\n",
              "      <td>object</td>\n",
              "    </tr>\n",
              "    <tr>\n",
              "      <th>arrival_time</th>\n",
              "      <td>object</td>\n",
              "    </tr>\n",
              "    <tr>\n",
              "      <th>destination_city</th>\n",
              "      <td>object</td>\n",
              "    </tr>\n",
              "    <tr>\n",
              "      <th>class</th>\n",
              "      <td>object</td>\n",
              "    </tr>\n",
              "  </tbody>\n",
              "</table>\n",
              "</div>\n",
              "      <button class=\"colab-df-convert\" onclick=\"convertToInteractive('df-baffd765-4c54-4616-ac78-b94151fc70e3')\"\n",
              "              title=\"Convert this dataframe to an interactive table.\"\n",
              "              style=\"display:none;\">\n",
              "        \n",
              "  <svg xmlns=\"http://www.w3.org/2000/svg\" height=\"24px\"viewBox=\"0 0 24 24\"\n",
              "       width=\"24px\">\n",
              "    <path d=\"M0 0h24v24H0V0z\" fill=\"none\"/>\n",
              "    <path d=\"M18.56 5.44l.94 2.06.94-2.06 2.06-.94-2.06-.94-.94-2.06-.94 2.06-2.06.94zm-11 1L8.5 8.5l.94-2.06 2.06-.94-2.06-.94L8.5 2.5l-.94 2.06-2.06.94zm10 10l.94 2.06.94-2.06 2.06-.94-2.06-.94-.94-2.06-.94 2.06-2.06.94z\"/><path d=\"M17.41 7.96l-1.37-1.37c-.4-.4-.92-.59-1.43-.59-.52 0-1.04.2-1.43.59L10.3 9.45l-7.72 7.72c-.78.78-.78 2.05 0 2.83L4 21.41c.39.39.9.59 1.41.59.51 0 1.02-.2 1.41-.59l7.78-7.78 2.81-2.81c.8-.78.8-2.07 0-2.86zM5.41 20L4 18.59l7.72-7.72 1.47 1.35L5.41 20z\"/>\n",
              "  </svg>\n",
              "      </button>\n",
              "      \n",
              "  <style>\n",
              "    .colab-df-container {\n",
              "      display:flex;\n",
              "      flex-wrap:wrap;\n",
              "      gap: 12px;\n",
              "    }\n",
              "\n",
              "    .colab-df-convert {\n",
              "      background-color: #E8F0FE;\n",
              "      border: none;\n",
              "      border-radius: 50%;\n",
              "      cursor: pointer;\n",
              "      display: none;\n",
              "      fill: #1967D2;\n",
              "      height: 32px;\n",
              "      padding: 0 0 0 0;\n",
              "      width: 32px;\n",
              "    }\n",
              "\n",
              "    .colab-df-convert:hover {\n",
              "      background-color: #E2EBFA;\n",
              "      box-shadow: 0px 1px 2px rgba(60, 64, 67, 0.3), 0px 1px 3px 1px rgba(60, 64, 67, 0.15);\n",
              "      fill: #174EA6;\n",
              "    }\n",
              "\n",
              "    [theme=dark] .colab-df-convert {\n",
              "      background-color: #3B4455;\n",
              "      fill: #D2E3FC;\n",
              "    }\n",
              "\n",
              "    [theme=dark] .colab-df-convert:hover {\n",
              "      background-color: #434B5C;\n",
              "      box-shadow: 0px 1px 3px 1px rgba(0, 0, 0, 0.15);\n",
              "      filter: drop-shadow(0px 1px 2px rgba(0, 0, 0, 0.3));\n",
              "      fill: #FFFFFF;\n",
              "    }\n",
              "  </style>\n",
              "\n",
              "      <script>\n",
              "        const buttonEl =\n",
              "          document.querySelector('#df-baffd765-4c54-4616-ac78-b94151fc70e3 button.colab-df-convert');\n",
              "        buttonEl.style.display =\n",
              "          google.colab.kernel.accessAllowed ? 'block' : 'none';\n",
              "\n",
              "        async function convertToInteractive(key) {\n",
              "          const element = document.querySelector('#df-baffd765-4c54-4616-ac78-b94151fc70e3');\n",
              "          const dataTable =\n",
              "            await google.colab.kernel.invokeFunction('convertToInteractive',\n",
              "                                                     [key], {});\n",
              "          if (!dataTable) return;\n",
              "\n",
              "          const docLinkHtml = 'Like what you see? Visit the ' +\n",
              "            '<a target=\"_blank\" href=https://colab.research.google.com/notebooks/data_table.ipynb>data table notebook</a>'\n",
              "            + ' to learn more about interactive tables.';\n",
              "          element.innerHTML = '';\n",
              "          dataTable['output_type'] = 'display_data';\n",
              "          await google.colab.output.renderOutput(dataTable, element);\n",
              "          const docLink = document.createElement('div');\n",
              "          docLink.innerHTML = docLinkHtml;\n",
              "          element.appendChild(docLink);\n",
              "        }\n",
              "      </script>\n",
              "    </div>\n",
              "  </div>\n",
              "  "
            ]
          },
          "metadata": {},
          "execution_count": 5
        }
      ],
      "source": [
        "# Kiểm tra dạng dữ liệu\n",
        "def _tbl_dtype(dataset):\n",
        "    sum_dtype = pd.DataFrame(dataset.dtypes).sort_values(0).rename(columns = {0:'Data Type'})\n",
        "    return sum_dtype\n",
        "\n",
        "table_dtype = _tbl_dtype(df)\n",
        "table_dtype"
      ]
    },
    {
      "cell_type": "code",
      "execution_count": null,
      "metadata": {
        "colab": {
          "base_uri": "https://localhost:8080/"
        },
        "id": "qrf1B1v-8IBz",
        "outputId": "e970fc16-88cf-42b4-d020-96fffa075cda"
      },
      "outputs": [
        {
          "output_type": "execute_result",
          "data": {
            "text/plain": [
              "object     8\n",
              "int64      3\n",
              "float64    1\n",
              "Name: Data Type, dtype: int64"
            ]
          },
          "metadata": {},
          "execution_count": 6
        }
      ],
      "source": [
        "table_dtype['Data Type'].value_counts()"
      ]
    },
    {
      "cell_type": "code",
      "execution_count": null,
      "metadata": {
        "colab": {
          "base_uri": "https://localhost:8080/"
        },
        "id": "KD4WA2gn6xI7",
        "outputId": "038d4d7f-a403-4c83-ac76-41a7ad542583"
      },
      "outputs": [
        {
          "output_type": "execute_result",
          "data": {
            "text/plain": [
              "Unnamed: 0          0\n",
              "airline             0\n",
              "flight              0\n",
              "source_city         0\n",
              "departure_time      0\n",
              "stops               0\n",
              "arrival_time        0\n",
              "destination_city    0\n",
              "class               0\n",
              "duration            0\n",
              "days_left           0\n",
              "price               0\n",
              "dtype: int64"
            ]
          },
          "metadata": {},
          "execution_count": 7
        }
      ],
      "source": [
        "# Kiểm tra dữ liệu null\n",
        "df.isnull().sum()"
      ]
    },
    {
      "cell_type": "code",
      "execution_count": null,
      "metadata": {
        "colab": {
          "base_uri": "https://localhost:8080/"
        },
        "id": "BRpK63pJ8tFx",
        "outputId": "a6a61b73-93db-4a90-e27e-8c89020c5087"
      },
      "outputs": [
        {
          "output_type": "execute_result",
          "data": {
            "text/plain": [
              "airline                6\n",
              "flight              1561\n",
              "source_city            6\n",
              "departure_time         6\n",
              "stops                  3\n",
              "arrival_time           6\n",
              "destination_city       6\n",
              "class                  2\n",
              "dtype: int64"
            ]
          },
          "metadata": {},
          "execution_count": 8
        }
      ],
      "source": [
        "# Thống kê số lượng các class trong mỗi nhóm đối với dữ liệu dạng object.\n",
        "df.select_dtypes('object').apply(pd.Series.nunique)"
      ]
    },
    {
      "cell_type": "markdown",
      "metadata": {
        "id": "skPxhX9v81Gg"
      },
      "source": [
        "### Biểu đồ phân phối"
      ]
    },
    {
      "cell_type": "markdown",
      "metadata": {
        "id": "md8lkMYZ9AXm"
      },
      "source": [
        "Vẽ biểu đồ phân phối số lượng các quan sát theo nhóm đối với dữ liệu dạng object. Đối với các biến **flight** ta sẽ nghiên cứu riêng do số lượng class lớn."
      ]
    },
    {
      "cell_type": "code",
      "execution_count": null,
      "metadata": {
        "colab": {
          "base_uri": "https://localhost:8080/",
          "height": 622
        },
        "id": "7fTXbeEN8c0w",
        "outputId": "2e117fa2-6b6c-4a91-9ea2-6fca8f73168e"
      },
      "outputs": [
        {
          "output_type": "display_data",
          "data": {
            "text/plain": [
              "<Figure size 2000x1500 with 7 Axes>"
            ],
            "image/png": "[encoded data removed]"
          },
          "metadata": {}
        }
      ],
      "source": [
        "# Biểu đồ phân phối\n",
        "dtypes_object = table_dtype[table_dtype['Data Type'] == 'object'].index.tolist()\n",
        "dtypes_object = [col for col in dtypes_object if col not in ['flight']]\n",
        "\n",
        "\n",
        "def _plot_bar_classes(cols):\n",
        "    df[cols].value_counts().plot.bar()\n",
        "\n",
        "plt.figure(figsize = (20, 15))\n",
        "for i in range(1, 8, 1):\n",
        "    plt.subplot(5, 3, i)\n",
        "    _plot_bar_classes(dtypes_object[i-1])\n",
        "    plt.title(dtypes_object[i-1])"
      ]
    },
    {
      "cell_type": "markdown",
      "metadata": {
        "id": "wqmL6MhStfky"
      },
      "source": [
        "Kiểm tra riêng biến flight"
      ]
    },
    {
      "cell_type": "code",
      "execution_count": null,
      "metadata": {
        "colab": {
          "base_uri": "https://localhost:8080/",
          "height": 351
        },
        "id": "wRJVOoB-tXGx",
        "outputId": "455e1974-a74b-4f6b-f722-987079c9b601"
      },
      "outputs": [
        {
          "output_type": "display_data",
          "data": {
            "text/plain": [
              "<Figure size 1500x700 with 1 Axes>"
            ],
            "image/png": "[encoded data removed]"
          },
          "metadata": {}
        }
      ],
      "source": [
        "plt.figure(figsize = (15, 7))\n",
        "i = 0\n",
        "for col in ['flight']:\n",
        "    i += 1\n",
        "    plt.subplot(2, 1, i)\n",
        "    _plot_bar_classes(col)"
      ]
    },
    {
      "cell_type": "markdown",
      "metadata": {
        "id": "-UBbtG_ksIk6"
      },
      "source": [
        "Thông qua biểu đồ ta cũng hình dung được một vài biến phân loại có sự khác biệt lớn về giá như airline, stops, class. Do vậy, đây là những biến có tác động lớn đến biến mục tiêu."
      ]
    },
    {
      "cell_type": "code",
      "execution_count": null,
      "metadata": {
        "colab": {
          "base_uri": "https://localhost:8080/"
        },
        "id": "1xVhBjxd5liK",
        "outputId": "586fcab2-f48a-4cd3-8834-1d63db8d39d5"
      },
      "outputs": [
        {
          "output_type": "execute_result",
          "data": {
            "text/plain": [
              "airline\n",
              "AirAsia       16098\n",
              "Air_India     80892\n",
              "GO_FIRST      23173\n",
              "Indigo        43120\n",
              "SpiceJet       9011\n",
              "Vistara      127859\n",
              "dtype: int64"
            ]
          },
          "metadata": {},
          "execution_count": 11
        }
      ],
      "source": [
        "df.groupby('airline').size()"
      ]
    },
    {
      "cell_type": "code",
      "execution_count": null,
      "metadata": {
        "colab": {
          "base_uri": "https://localhost:8080/"
        },
        "id": "ayKY0fWP5yyA",
        "outputId": "4287fb10-afe8-4a9b-860d-e10a12905416"
      },
      "outputs": [
        {
          "output_type": "execute_result",
          "data": {
            "text/plain": [
              "flight\n",
              "6E-102      39\n",
              "6E-105       5\n",
              "6E-113      49\n",
              "6E-121      20\n",
              "6E-123       5\n",
              "          ... \n",
              "UK-988    1381\n",
              "UK-993     911\n",
              "UK-994    1273\n",
              "UK-995    1024\n",
              "UK-996    1266\n",
              "Length: 1561, dtype: int64"
            ]
          },
          "metadata": {},
          "execution_count": 12
        }
      ],
      "source": [
        "df.groupby('flight').size()"
      ]
    },
    {
      "cell_type": "code",
      "execution_count": null,
      "metadata": {
        "colab": {
          "base_uri": "https://localhost:8080/"
        },
        "id": "z9gzw_Ih8Ghl",
        "outputId": "f99e63b5-06cd-4e33-eb12-31bb9d0a64ce"
      },
      "outputs": [
        {
          "output_type": "execute_result",
          "data": {
            "text/plain": [
              "source_city\n",
              "Bangalore    52061\n",
              "Chennai      38700\n",
              "Delhi        61343\n",
              "Hyderabad    40806\n",
              "Kolkata      46347\n",
              "Mumbai       60896\n",
              "dtype: int64"
            ]
          },
          "metadata": {},
          "execution_count": 13
        }
      ],
      "source": [
        "df.groupby('source_city').size()"
      ]
    },
    {
      "cell_type": "code",
      "execution_count": null,
      "metadata": {
        "colab": {
          "base_uri": "https://localhost:8080/"
        },
        "id": "A_Pv0C-X8Kxu",
        "outputId": "1ee8fefe-5e86-45f8-942d-06479d1fdc1d"
      },
      "outputs": [
        {
          "output_type": "execute_result",
          "data": {
            "text/plain": [
              "departure_time\n",
              "Afternoon        47794\n",
              "Early_Morning    66790\n",
              "Evening          65102\n",
              "Late_Night        1306\n",
              "Morning          71146\n",
              "Night            48015\n",
              "dtype: int64"
            ]
          },
          "metadata": {},
          "execution_count": 14
        }
      ],
      "source": [
        "df.groupby('departure_time').size()"
      ]
    },
    {
      "cell_type": "code",
      "execution_count": null,
      "metadata": {
        "colab": {
          "base_uri": "https://localhost:8080/"
        },
        "id": "tMZZXKYH8WqS",
        "outputId": "bd9d6e12-566f-42d6-8311-1ad5fa4f5c02"
      },
      "outputs": [
        {
          "output_type": "execute_result",
          "data": {
            "text/plain": [
              "stops\n",
              "one            250863\n",
              "two_or_more     13286\n",
              "zero            36004\n",
              "dtype: int64"
            ]
          },
          "metadata": {},
          "execution_count": 15
        }
      ],
      "source": [
        "df.groupby('stops').size()"
      ]
    },
    {
      "cell_type": "code",
      "execution_count": null,
      "metadata": {
        "colab": {
          "base_uri": "https://localhost:8080/"
        },
        "id": "m8LtyROD-BDq",
        "outputId": "3b340870-cd74-4410-e518-3903dad46a76"
      },
      "outputs": [
        {
          "output_type": "execute_result",
          "data": {
            "text/plain": [
              "arrival_time\n",
              "Afternoon        38139\n",
              "Early_Morning    15417\n",
              "Evening          78323\n",
              "Late_Night       14001\n",
              "Morning          62735\n",
              "Night            91538\n",
              "dtype: int64"
            ]
          },
          "metadata": {},
          "execution_count": 16
        }
      ],
      "source": [
        "df.groupby('arrival_time').size()"
      ]
    },
    {
      "cell_type": "code",
      "execution_count": null,
      "metadata": {
        "colab": {
          "base_uri": "https://localhost:8080/"
        },
        "id": "guiIR5bP-GS_",
        "outputId": "2d5bd8fd-9085-484d-8ca2-122cda465288"
      },
      "outputs": [
        {
          "output_type": "execute_result",
          "data": {
            "text/plain": [
              "destination_city\n",
              "Bangalore    51068\n",
              "Chennai      40368\n",
              "Delhi        57360\n",
              "Hyderabad    42726\n",
              "Kolkata      49534\n",
              "Mumbai       59097\n",
              "dtype: int64"
            ]
          },
          "metadata": {},
          "execution_count": 17
        }
      ],
      "source": [
        "df.groupby('destination_city').size()"
      ]
    },
    {
      "cell_type": "code",
      "execution_count": null,
      "metadata": {
        "colab": {
          "base_uri": "https://localhost:8080/"
        },
        "id": "xTrKZzLm-Kf4",
        "outputId": "fa1c9b3a-9ea5-4279-a7e2-14824c406d53"
      },
      "outputs": [
        {
          "output_type": "execute_result",
          "data": {
            "text/plain": [
              "class\n",
              "Business     93487\n",
              "Economy     206666\n",
              "dtype: int64"
            ]
          },
          "metadata": {},
          "execution_count": 18
        }
      ],
      "source": [
        "df.groupby('class').size()"
      ]
    },
    {
      "cell_type": "code",
      "execution_count": null,
      "metadata": {
        "colab": {
          "base_uri": "https://localhost:8080/"
        },
        "id": "7gn0FhNn-NTZ",
        "outputId": "99d2a930-c70b-4dcb-a019-382e472cfa89"
      },
      "outputs": [
        {
          "output_type": "execute_result",
          "data": {
            "text/plain": [
              "duration\n",
              "0.83      52\n",
              "0.92      78\n",
              "1.00     377\n",
              "1.08     553\n",
              "1.17     960\n",
              "        ... \n",
              "44.50      1\n",
              "45.83      3\n",
              "47.08      1\n",
              "47.75      2\n",
              "49.83      2\n",
              "Length: 476, dtype: int64"
            ]
          },
          "metadata": {},
          "execution_count": 19
        }
      ],
      "source": [
        "df.groupby('duration').size()"
      ]
    },
    {
      "cell_type": "code",
      "execution_count": null,
      "metadata": {
        "colab": {
          "base_uri": "https://localhost:8080/"
        },
        "id": "JI_GkXt8-TYf",
        "outputId": "20fb57f7-2867-4491-ab51-c41289a9eada"
      },
      "outputs": [
        {
          "output_type": "execute_result",
          "data": {
            "text/plain": [
              "days_left\n",
              "1     1927\n",
              "2     4026\n",
              "3     4248\n",
              "4     5077\n",
              "5     5392\n",
              "6     5740\n",
              "7     5703\n",
              "8     5767\n",
              "9     5665\n",
              "10    5822\n",
              "11    6417\n",
              "12    6381\n",
              "13    6404\n",
              "14    6349\n",
              "15    6340\n",
              "16    6272\n",
              "17    6419\n",
              "18    6602\n",
              "19    6537\n",
              "20    6502\n",
              "21    6479\n",
              "22    6494\n",
              "23    6401\n",
              "24    6542\n",
              "25    6633\n",
              "26    6573\n",
              "27    6360\n",
              "28    6522\n",
              "29    6397\n",
              "30    6501\n",
              "31    6534\n",
              "32    6585\n",
              "33    6532\n",
              "34    6412\n",
              "35    6291\n",
              "36    6490\n",
              "37    6476\n",
              "38    6512\n",
              "39    6593\n",
              "40    6531\n",
              "41    6525\n",
              "42    6497\n",
              "43    6472\n",
              "44    6436\n",
              "45    6314\n",
              "46    6160\n",
              "47    6069\n",
              "48    6078\n",
              "49    6154\n",
              "dtype: int64"
            ]
          },
          "metadata": {},
          "execution_count": 20
        }
      ],
      "source": [
        "df.groupby('days_left').size()"
      ]
    },
    {
      "cell_type": "code",
      "execution_count": null,
      "metadata": {
        "colab": {
          "base_uri": "https://localhost:8080/"
        },
        "id": "1mU8Uv4i-ZUF",
        "outputId": "3f706af6-5284-44fc-a118-e4fcc373a0b8"
      },
      "outputs": [
        {
          "output_type": "execute_result",
          "data": {
            "text/plain": [
              "price\n",
              "1105      300\n",
              "1106        7\n",
              "1443      180\n",
              "1444       14\n",
              "1526       20\n",
              "         ... \n",
              "114705      1\n",
              "115211      1\n",
              "116562      1\n",
              "117307      1\n",
              "123071      1\n",
              "Length: 12157, dtype: int64"
            ]
          },
          "metadata": {},
          "execution_count": 21
        }
      ],
      "source": [
        "df.groupby('price').size()"
      ]
    },
    {
      "cell_type": "code",
      "execution_count": null,
      "metadata": {
        "colab": {
          "base_uri": "https://localhost:8080/",
          "height": 300
        },
        "id": "1ydxDD6uxWlp",
        "outputId": "b2af151e-a191-45f1-edc9-26253b5f6631"
      },
      "outputs": [
        {
          "output_type": "execute_result",
          "data": {
            "text/plain": [
              "          Unnamed: 0       duration      days_left          price\n",
              "count  300153.000000  300153.000000  300153.000000  300153.000000\n",
              "mean   150076.000000      12.221021      26.004751   20889.660523\n",
              "std     86646.852011       7.191997      13.561004   22697.767366\n",
              "min         0.000000       0.830000       1.000000    1105.000000\n",
              "25%     75038.000000       6.830000      15.000000    4783.000000\n",
              "50%    150076.000000      11.250000      26.000000    7425.000000\n",
              "75%    225114.000000      16.170000      38.000000   42521.000000\n",
              "max    300152.000000      49.830000      49.000000  123071.000000"
            ],
            "text/html": [
              "\n",
              "  <div id=\"df-147debd5-6eb3-4915-b1df-96522ede2ee5\">\n",
              "    <div class=\"colab-df-container\">\n",
              "      <div>\n",
              "<style scoped>\n",
              "    .dataframe tbody tr th:only-of-type {\n",
              "        vertical-align: middle;\n",
              "    }\n",
              "\n",
              "    .dataframe tbody tr th {\n",
              "        vertical-align: top;\n",
              "    }\n",
              "\n",
              "    .dataframe thead th {\n",
              "        text-align: right;\n",
              "    }\n",
              "</style>\n",
              "<table border=\"1\" class=\"dataframe\">\n",
              "  <thead>\n",
              "    <tr style=\"text-align: right;\">\n",
              "      <th></th>\n",
              "      <th>Unnamed: 0</th>\n",
              "      <th>duration</th>\n",
              "      <th>days_left</th>\n",
              "      <th>price</th>\n",
              "    </tr>\n",
              "  </thead>\n",
              "  <tbody>\n",
              "    <tr>\n",
              "      <th>count</th>\n",
              "      <td>300153.000000</td>\n",
              "      <td>300153.000000</td>\n",
              "      <td>300153.000000</td>\n",
              "      <td>300153.000000</td>\n",
              "    </tr>\n",
              "    <tr>\n",
              "      <th>mean</th>\n",
              "      <td>150076.000000</td>\n",
              "      <td>12.221021</td>\n",
              "      <td>26.004751</td>\n",
              "      <td>20889.660523</td>\n",
              "    </tr>\n",
              "    <tr>\n",
              "      <th>std</th>\n",
              "      <td>86646.852011</td>\n",
              "      <td>7.191997</td>\n",
              "      <td>13.561004</td>\n",
              "      <td>22697.767366</td>\n",
              "    </tr>\n",
              "    <tr>\n",
              "      <th>min</th>\n",
              "      <td>0.000000</td>\n",
              "      <td>0.830000</td>\n",
              "      <td>1.000000</td>\n",
              "      <td>1105.000000</td>\n",
              "    </tr>\n",
              "    <tr>\n",
              "      <th>25%</th>\n",
              "      <td>75038.000000</td>\n",
              "      <td>6.830000</td>\n",
              "      <td>15.000000</td>\n",
              "      <td>4783.000000</td>\n",
              "    </tr>\n",
              "    <tr>\n",
              "      <th>50%</th>\n",
              "      <td>150076.000000</td>\n",
              "      <td>11.250000</td>\n",
              "      <td>26.000000</td>\n",
              "      <td>7425.000000</td>\n",
              "    </tr>\n",
              "    <tr>\n",
              "      <th>75%</th>\n",
              "      <td>225114.000000</td>\n",
              "      <td>16.170000</td>\n",
              "      <td>38.000000</td>\n",
              "      <td>42521.000000</td>\n",
              "    </tr>\n",
              "    <tr>\n",
              "      <th>max</th>\n",
              "      <td>300152.000000</td>\n",
              "      <td>49.830000</td>\n",
              "      <td>49.000000</td>\n",
              "      <td>123071.000000</td>\n",
              "    </tr>\n",
              "  </tbody>\n",
              "</table>\n",
              "</div>\n",
              "      <button class=\"colab-df-convert\" onclick=\"convertToInteractive('df-147debd5-6eb3-4915-b1df-96522ede2ee5')\"\n",
              "              title=\"Convert this dataframe to an interactive table.\"\n",
              "              style=\"display:none;\">\n",
              "        \n",
              "  <svg xmlns=\"http://www.w3.org/2000/svg\" height=\"24px\"viewBox=\"0 0 24 24\"\n",
              "       width=\"24px\">\n",
              "    <path d=\"M0 0h24v24H0V0z\" fill=\"none\"/>\n",
              "    <path d=\"M18.56 5.44l.94 2.06.94-2.06 2.06-.94-2.06-.94-.94-2.06-.94 2.06-2.06.94zm-11 1L8.5 8.5l.94-2.06 2.06-.94-2.06-.94L8.5 2.5l-.94 2.06-2.06.94zm10 10l.94 2.06.94-2.06 2.06-.94-2.06-.94-.94-2.06-.94 2.06-2.06.94z\"/><path d=\"M17.41 7.96l-1.37-1.37c-.4-.4-.92-.59-1.43-.59-.52 0-1.04.2-1.43.59L10.3 9.45l-7.72 7.72c-.78.78-.78 2.05 0 2.83L4 21.41c.39.39.9.59 1.41.59.51 0 1.02-.2 1.41-.59l7.78-7.78 2.81-2.81c.8-.78.8-2.07 0-2.86zM5.41 20L4 18.59l7.72-7.72 1.47 1.35L5.41 20z\"/>\n",
              "  </svg>\n",
              "      </button>\n",
              "      \n",
              "  <style>\n",
              "    .colab-df-container {\n",
              "      display:flex;\n",
              "      flex-wrap:wrap;\n",
              "      gap: 12px;\n",
              "    }\n",
              "\n",
              "    .colab-df-convert {\n",
              "      background-color: #E8F0FE;\n",
              "      border: none;\n",
              "      border-radius: 50%;\n",
              "      cursor: pointer;\n",
              "      display: none;\n",
              "      fill: #1967D2;\n",
              "      height: 32px;\n",
              "      padding: 0 0 0 0;\n",
              "      width: 32px;\n",
              "    }\n",
              "\n",
              "    .colab-df-convert:hover {\n",
              "      background-color: #E2EBFA;\n",
              "      box-shadow: 0px 1px 2px rgba(60, 64, 67, 0.3), 0px 1px 3px 1px rgba(60, 64, 67, 0.15);\n",
              "      fill: #174EA6;\n",
              "    }\n",
              "\n",
              "    [theme=dark] .colab-df-convert {\n",
              "      background-color: #3B4455;\n",
              "      fill: #D2E3FC;\n",
              "    }\n",
              "\n",
              "    [theme=dark] .colab-df-convert:hover {\n",
              "      background-color: #434B5C;\n",
              "      box-shadow: 0px 1px 3px 1px rgba(0, 0, 0, 0.15);\n",
              "      filter: drop-shadow(0px 1px 2px rgba(0, 0, 0, 0.3));\n",
              "      fill: #FFFFFF;\n",
              "    }\n",
              "  </style>\n",
              "\n",
              "      <script>\n",
              "        const buttonEl =\n",
              "          document.querySelector('#df-147debd5-6eb3-4915-b1df-96522ede2ee5 button.colab-df-convert');\n",
              "        buttonEl.style.display =\n",
              "          google.colab.kernel.accessAllowed ? 'block' : 'none';\n",
              "\n",
              "        async function convertToInteractive(key) {\n",
              "          const element = document.querySelector('#df-147debd5-6eb3-4915-b1df-96522ede2ee5');\n",
              "          const dataTable =\n",
              "            await google.colab.kernel.invokeFunction('convertToInteractive',\n",
              "                                                     [key], {});\n",
              "          if (!dataTable) return;\n",
              "\n",
              "          const docLinkHtml = 'Like what you see? Visit the ' +\n",
              "            '<a target=\"_blank\" href=https://colab.research.google.com/notebooks/data_table.ipynb>data table notebook</a>'\n",
              "            + ' to learn more about interactive tables.';\n",
              "          element.innerHTML = '';\n",
              "          dataTable['output_type'] = 'display_data';\n",
              "          await google.colab.output.renderOutput(dataTable, element);\n",
              "          const docLink = document.createElement('div');\n",
              "          docLink.innerHTML = docLinkHtml;\n",
              "          element.appendChild(docLink);\n",
              "        }\n",
              "      </script>\n",
              "    </div>\n",
              "  </div>\n",
              "  "
            ]
          },
          "metadata": {},
          "execution_count": 22
        }
      ],
      "source": [
        "df.describe()"
      ]
    },
    {
      "cell_type": "markdown",
      "metadata": {
        "id": "K6aq3CJBrAxd"
      },
      "source": [
        "### Nhận xét"
      ]
    },
    {
      "cell_type": "markdown",
      "metadata": {
        "id": "fzVYt-FL4KKc"
      },
      "source": [
        "Dữ liệu có tất cả 12 cột trong đó:\n",
        "* **Unnamed: 0**: Cột thứ tự\n",
        "* **airline**: Tên của các hãng hàng không. Đây là cột gồm các biến category với 6 hãng hàng không khác nhau.\n",
        "* **flight**: Các mã chuyến bay. Đây là biến category.\n",
        "* **source_city**: Các thành phố xuất phát. Đây là cột gồm các biến category với 6 thành phố khác nhau.\n",
        "* **departure_time**: Thời gian khởi hành chuyến bay, được chia thành 6 khung giờ riêng biệt.\n",
        "* **stops**: Số lượng điểm dừng ở mỗi chuyến bay. Đây là cột gồm các biến category.\n",
        "* **arrival_time**: Thời gian chuyến bay hạ cánh, được chia thành 6 khung giờ riêng biệt.\n",
        "* **destination_city**: Các thành phố đáp chuyến bay. Đây là cột gồm các biến category với 6 thành phố khác nhau.\n",
        "* **class**: Hạng ghế, với hai giá trị \"thường (Economy)\" và \"thương gia\" (Business).\n",
        "* **duration**: Thời lượng của chuyến bay. Đây là biến liên tục, với giá trị nhỏ nhất bằng 0.83 giờ và giấ trị lớn nhất là 49.83 giờ.\n",
        "* **days_left**: Số ngày từ khi đặt vé tới lúc khởi hành chuyến bay, với giá trị nhỏ nhất là 1 ngày và giá trị lớn nhất là 49 ngày.\n",
        "* **price**: Giá vé, với giá trị nhỏ nhất là 1,105 và giá trị lớn nhất là 123,071."
      ]
    },
    {
      "cell_type": "markdown",
      "metadata": {
        "id": "DhVQk0T3mng6"
      },
      "source": [
        "## **3. Tiền xử lý dữ liệu**"
      ]
    },
    {
      "cell_type": "markdown",
      "metadata": {
        "id": "o2ehKxhbv7ra"
      },
      "source": [
        "### Loại bỏ những biến không có ý nghĩa trong mô hình"
      ]
    },
    {
      "cell_type": "code",
      "execution_count": null,
      "metadata": {
        "id": "e8KgQNjYEwzS"
      },
      "outputs": [],
      "source": [
        "from sklearn.preprocessing import MinMaxScaler\n",
        "from sklearn.preprocessing import LabelEncoder\n",
        "from sklearn.feature_selection import SelectKBest, f_classif\n",
        "from sklearn import preprocessing\n",
        "from sklearn.model_selection import train_test_split"
      ]
    },
    {
      "cell_type": "code",
      "execution_count": null,
      "metadata": {
        "colab": {
          "base_uri": "https://localhost:8080/",
          "height": 206
        },
        "id": "XGL5m9T1mma6",
        "outputId": "09910e59-beb3-4846-845e-2e40f30b1665"
      },
      "outputs": [
        {
          "output_type": "execute_result",
          "data": {
            "text/plain": [
              "   Unnamed: 0   airline   flight source_city departure_time stops  \\\n",
              "0           0  SpiceJet  SG-8709       Delhi        Evening  zero   \n",
              "1           1  SpiceJet  SG-8157       Delhi  Early_Morning  zero   \n",
              "2           2   AirAsia   I5-764       Delhi  Early_Morning  zero   \n",
              "3           3   Vistara   UK-995       Delhi        Morning  zero   \n",
              "4           4   Vistara   UK-963       Delhi        Morning  zero   \n",
              "\n",
              "    arrival_time destination_city    class  duration  days_left  price  \n",
              "0          Night           Mumbai  Economy      2.17          1   5953  \n",
              "1        Morning           Mumbai  Economy      2.33          1   5953  \n",
              "2  Early_Morning           Mumbai  Economy      2.17          1   5956  \n",
              "3      Afternoon           Mumbai  Economy      2.25          1   5955  \n",
              "4        Morning           Mumbai  Economy      2.33          1   5955  "
            ],
            "text/html": [
              "\n",
              "  <div id=\"df-9a0ad5eb-0253-42ae-bc2e-ecc4080b7b5f\">\n",
              "    <div class=\"colab-df-container\">\n",
              "      <div>\n",
              "<style scoped>\n",
              "    .dataframe tbody tr th:only-of-type {\n",
              "        vertical-align: middle;\n",
              "    }\n",
              "\n",
              "    .dataframe tbody tr th {\n",
              "        vertical-align: top;\n",
              "    }\n",
              "\n",
              "    .dataframe thead th {\n",
              "        text-align: right;\n",
              "    }\n",
              "</style>\n",
              "<table border=\"1\" class=\"dataframe\">\n",
              "  <thead>\n",
              "    <tr style=\"text-align: right;\">\n",
              "      <th></th>\n",
              "      <th>Unnamed: 0</th>\n",
              "      <th>airline</th>\n",
              "      <th>flight</th>\n",
              "      <th>source_city</th>\n",
              "      <th>departure_time</th>\n",
              "      <th>stops</th>\n",
              "      <th>arrival_time</th>\n",
              "      <th>destination_city</th>\n",
              "      <th>class</th>\n",
              "      <th>duration</th>\n",
              "      <th>days_left</th>\n",
              "      <th>price</th>\n",
              "    </tr>\n",
              "  </thead>\n",
              "  <tbody>\n",
              "    <tr>\n",
              "      <th>0</th>\n",
              "      <td>0</td>\n",
              "      <td>SpiceJet</td>\n",
              "      <td>SG-8709</td>\n",
              "      <td>Delhi</td>\n",
              "      <td>Evening</td>\n",
              "      <td>zero</td>\n",
              "      <td>Night</td>\n",
              "      <td>Mumbai</td>\n",
              "      <td>Economy</td>\n",
              "      <td>2.17</td>\n",
              "      <td>1</td>\n",
              "      <td>5953</td>\n",
              "    </tr>\n",
              "    <tr>\n",
              "      <th>1</th>\n",
              "      <td>1</td>\n",
              "      <td>SpiceJet</td>\n",
              "      <td>SG-8157</td>\n",
              "      <td>Delhi</td>\n",
              "      <td>Early_Morning</td>\n",
              "      <td>zero</td>\n",
              "      <td>Morning</td>\n",
              "      <td>Mumbai</td>\n",
              "      <td>Economy</td>\n",
              "      <td>2.33</td>\n",
              "      <td>1</td>\n",
              "      <td>5953</td>\n",
              "    </tr>\n",
              "    <tr>\n",
              "      <th>2</th>\n",
              "      <td>2</td>\n",
              "      <td>AirAsia</td>\n",
              "      <td>I5-764</td>\n",
              "      <td>Delhi</td>\n",
              "      <td>Early_Morning</td>\n",
              "      <td>zero</td>\n",
              "      <td>Early_Morning</td>\n",
              "      <td>Mumbai</td>\n",
              "      <td>Economy</td>\n",
              "      <td>2.17</td>\n",
              "      <td>1</td>\n",
              "      <td>5956</td>\n",
              "    </tr>\n",
              "    <tr>\n",
              "      <th>3</th>\n",
              "      <td>3</td>\n",
              "      <td>Vistara</td>\n",
              "      <td>UK-995</td>\n",
              "      <td>Delhi</td>\n",
              "      <td>Morning</td>\n",
              "      <td>zero</td>\n",
              "      <td>Afternoon</td>\n",
              "      <td>Mumbai</td>\n",
              "      <td>Economy</td>\n",
              "      <td>2.25</td>\n",
              "      <td>1</td>\n",
              "      <td>5955</td>\n",
              "    </tr>\n",
              "    <tr>\n",
              "      <th>4</th>\n",
              "      <td>4</td>\n",
              "      <td>Vistara</td>\n",
              "      <td>UK-963</td>\n",
              "      <td>Delhi</td>\n",
              "      <td>Morning</td>\n",
              "      <td>zero</td>\n",
              "      <td>Morning</td>\n",
              "      <td>Mumbai</td>\n",
              "      <td>Economy</td>\n",
              "      <td>2.33</td>\n",
              "      <td>1</td>\n",
              "      <td>5955</td>\n",
              "    </tr>\n",
              "  </tbody>\n",
              "</table>\n",
              "</div>\n",
              "      <button class=\"colab-df-convert\" onclick=\"convertToInteractive('df-9a0ad5eb-0253-42ae-bc2e-ecc4080b7b5f')\"\n",
              "              title=\"Convert this dataframe to an interactive table.\"\n",
              "              style=\"display:none;\">\n",
              "        \n",
              "  <svg xmlns=\"http://www.w3.org/2000/svg\" height=\"24px\"viewBox=\"0 0 24 24\"\n",
              "       width=\"24px\">\n",
              "    <path d=\"M0 0h24v24H0V0z\" fill=\"none\"/>\n",
              "    <path d=\"M18.56 5.44l.94 2.06.94-2.06 2.06-.94-2.06-.94-.94-2.06-.94 2.06-2.06.94zm-11 1L8.5 8.5l.94-2.06 2.06-.94-2.06-.94L8.5 2.5l-.94 2.06-2.06.94zm10 10l.94 2.06.94-2.06 2.06-.94-2.06-.94-.94-2.06-.94 2.06-2.06.94z\"/><path d=\"M17.41 7.96l-1.37-1.37c-.4-.4-.92-.59-1.43-.59-.52 0-1.04.2-1.43.59L10.3 9.45l-7.72 7.72c-.78.78-.78 2.05 0 2.83L4 21.41c.39.39.9.59 1.41.59.51 0 1.02-.2 1.41-.59l7.78-7.78 2.81-2.81c.8-.78.8-2.07 0-2.86zM5.41 20L4 18.59l7.72-7.72 1.47 1.35L5.41 20z\"/>\n",
              "  </svg>\n",
              "      </button>\n",
              "      \n",
              "  <style>\n",
              "    .colab-df-container {\n",
              "      display:flex;\n",
              "      flex-wrap:wrap;\n",
              "      gap: 12px;\n",
              "    }\n",
              "\n",
              "    .colab-df-convert {\n",
              "      background-color: #E8F0FE;\n",
              "      border: none;\n",
              "      border-radius: 50%;\n",
              "      cursor: pointer;\n",
              "      display: none;\n",
              "      fill: #1967D2;\n",
              "      height: 32px;\n",
              "      padding: 0 0 0 0;\n",
              "      width: 32px;\n",
              "    }\n",
              "\n",
              "    .colab-df-convert:hover {\n",
              "      background-color: #E2EBFA;\n",
              "      box-shadow: 0px 1px 2px rgba(60, 64, 67, 0.3), 0px 1px 3px 1px rgba(60, 64, 67, 0.15);\n",
              "      fill: #174EA6;\n",
              "    }\n",
              "\n",
              "    [theme=dark] .colab-df-convert {\n",
              "      background-color: #3B4455;\n",
              "      fill: #D2E3FC;\n",
              "    }\n",
              "\n",
              "    [theme=dark] .colab-df-convert:hover {\n",
              "      background-color: #434B5C;\n",
              "      box-shadow: 0px 1px 3px 1px rgba(0, 0, 0, 0.15);\n",
              "      filter: drop-shadow(0px 1px 2px rgba(0, 0, 0, 0.3));\n",
              "      fill: #FFFFFF;\n",
              "    }\n",
              "  </style>\n",
              "\n",
              "      <script>\n",
              "        const buttonEl =\n",
              "          document.querySelector('#df-9a0ad5eb-0253-42ae-bc2e-ecc4080b7b5f button.colab-df-convert');\n",
              "        buttonEl.style.display =\n",
              "          google.colab.kernel.accessAllowed ? 'block' : 'none';\n",
              "\n",
              "        async function convertToInteractive(key) {\n",
              "          const element = document.querySelector('#df-9a0ad5eb-0253-42ae-bc2e-ecc4080b7b5f');\n",
              "          const dataTable =\n",
              "            await google.colab.kernel.invokeFunction('convertToInteractive',\n",
              "                                                     [key], {});\n",
              "          if (!dataTable) return;\n",
              "\n",
              "          const docLinkHtml = 'Like what you see? Visit the ' +\n",
              "            '<a target=\"_blank\" href=https://colab.research.google.com/notebooks/data_table.ipynb>data table notebook</a>'\n",
              "            + ' to learn more about interactive tables.';\n",
              "          element.innerHTML = '';\n",
              "          dataTable['output_type'] = 'display_data';\n",
              "          await google.colab.output.renderOutput(dataTable, element);\n",
              "          const docLink = document.createElement('div');\n",
              "          docLink.innerHTML = docLinkHtml;\n",
              "          element.appendChild(docLink);\n",
              "        }\n",
              "      </script>\n",
              "    </div>\n",
              "  </div>\n",
              "  "
            ]
          },
          "metadata": {},
          "execution_count": 24
        }
      ],
      "source": [
        "df.head()"
      ]
    },
    {
      "cell_type": "code",
      "execution_count": null,
      "metadata": {
        "id": "iDRoCM4VEH2O"
      },
      "outputs": [],
      "source": [
        "df1 = df.copy()"
      ]
    },
    {
      "cell_type": "code",
      "execution_count": null,
      "metadata": {
        "id": "19Cc5QVuU9Ne"
      },
      "outputs": [],
      "source": [
        "# Loại bỏ cột flight, Unnamed do không có ý nghĩa thống kê\n",
        "df1 = df1.drop(['flight','Unnamed: 0'], axis = 1)"
      ]
    },
    {
      "cell_type": "code",
      "execution_count": null,
      "metadata": {
        "id": "WWGUYKEJFkf0"
      },
      "outputs": [],
      "source": [
        "# Chuyển đổi các nhãn trong một DataFrame thành dạng số\n",
        "le=LabelEncoder()\n",
        "for col in df1.columns:\n",
        "    if df1[col].dtype=='object':\n",
        "        df1[col]=le.fit_transform(df1[col])"
      ]
    },
    {
      "cell_type": "code",
      "execution_count": null,
      "metadata": {
        "colab": {
          "base_uri": "https://localhost:8080/",
          "height": 206
        },
        "id": "Vw1RZllwF1ed",
        "outputId": "7e496fab-4621-4cc7-e197-0730660f5331"
      },
      "outputs": [
        {
          "output_type": "execute_result",
          "data": {
            "text/plain": [
              "   airline  source_city  departure_time  stops  arrival_time  \\\n",
              "0      0.8          0.4             0.4    1.0           1.0   \n",
              "1      0.8          0.4             0.2    1.0           0.8   \n",
              "2      0.0          0.4             0.2    1.0           0.2   \n",
              "3      1.0          0.4             0.8    1.0           0.0   \n",
              "4      1.0          0.4             0.8    1.0           0.8   \n",
              "\n",
              "   destination_city  class  duration  days_left  price  \n",
              "0               1.0    1.0  0.027347        0.0   5953  \n",
              "1               1.0    1.0  0.030612        0.0   5953  \n",
              "2               1.0    1.0  0.027347        0.0   5956  \n",
              "3               1.0    1.0  0.028980        0.0   5955  \n",
              "4               1.0    1.0  0.030612        0.0   5955  "
            ],
            "text/html": [
              "\n",
              "  <div id=\"df-1ee4a7e6-c2df-404e-a012-7097858744dd\">\n",
              "    <div class=\"colab-df-container\">\n",
              "      <div>\n",
              "<style scoped>\n",
              "    .dataframe tbody tr th:only-of-type {\n",
              "        vertical-align: middle;\n",
              "    }\n",
              "\n",
              "    .dataframe tbody tr th {\n",
              "        vertical-align: top;\n",
              "    }\n",
              "\n",
              "    .dataframe thead th {\n",
              "        text-align: right;\n",
              "    }\n",
              "</style>\n",
              "<table border=\"1\" class=\"dataframe\">\n",
              "  <thead>\n",
              "    <tr style=\"text-align: right;\">\n",
              "      <th></th>\n",
              "      <th>airline</th>\n",
              "      <th>source_city</th>\n",
              "      <th>departure_time</th>\n",
              "      <th>stops</th>\n",
              "      <th>arrival_time</th>\n",
              "      <th>destination_city</th>\n",
              "      <th>class</th>\n",
              "      <th>duration</th>\n",
              "      <th>days_left</th>\n",
              "      <th>price</th>\n",
              "    </tr>\n",
              "  </thead>\n",
              "  <tbody>\n",
              "    <tr>\n",
              "      <th>0</th>\n",
              "      <td>0.8</td>\n",
              "      <td>0.4</td>\n",
              "      <td>0.4</td>\n",
              "      <td>1.0</td>\n",
              "      <td>1.0</td>\n",
              "      <td>1.0</td>\n",
              "      <td>1.0</td>\n",
              "      <td>0.027347</td>\n",
              "      <td>0.0</td>\n",
              "      <td>5953</td>\n",
              "    </tr>\n",
              "    <tr>\n",
              "      <th>1</th>\n",
              "      <td>0.8</td>\n",
              "      <td>0.4</td>\n",
              "      <td>0.2</td>\n",
              "      <td>1.0</td>\n",
              "      <td>0.8</td>\n",
              "      <td>1.0</td>\n",
              "      <td>1.0</td>\n",
              "      <td>0.030612</td>\n",
              "      <td>0.0</td>\n",
              "      <td>5953</td>\n",
              "    </tr>\n",
              "    <tr>\n",
              "      <th>2</th>\n",
              "      <td>0.0</td>\n",
              "      <td>0.4</td>\n",
              "      <td>0.2</td>\n",
              "      <td>1.0</td>\n",
              "      <td>0.2</td>\n",
              "      <td>1.0</td>\n",
              "      <td>1.0</td>\n",
              "      <td>0.027347</td>\n",
              "      <td>0.0</td>\n",
              "      <td>5956</td>\n",
              "    </tr>\n",
              "    <tr>\n",
              "      <th>3</th>\n",
              "      <td>1.0</td>\n",
              "      <td>0.4</td>\n",
              "      <td>0.8</td>\n",
              "      <td>1.0</td>\n",
              "      <td>0.0</td>\n",
              "      <td>1.0</td>\n",
              "      <td>1.0</td>\n",
              "      <td>0.028980</td>\n",
              "      <td>0.0</td>\n",
              "      <td>5955</td>\n",
              "    </tr>\n",
              "    <tr>\n",
              "      <th>4</th>\n",
              "      <td>1.0</td>\n",
              "      <td>0.4</td>\n",
              "      <td>0.8</td>\n",
              "      <td>1.0</td>\n",
              "      <td>0.8</td>\n",
              "      <td>1.0</td>\n",
              "      <td>1.0</td>\n",
              "      <td>0.030612</td>\n",
              "      <td>0.0</td>\n",
              "      <td>5955</td>\n",
              "    </tr>\n",
              "  </tbody>\n",
              "</table>\n",
              "</div>\n",
              "      <button class=\"colab-df-convert\" onclick=\"convertToInteractive('df-1ee4a7e6-c2df-404e-a012-7097858744dd')\"\n",
              "              title=\"Convert this dataframe to an interactive table.\"\n",
              "              style=\"display:none;\">\n",
              "        \n",
              "  <svg xmlns=\"http://www.w3.org/2000/svg\" height=\"24px\"viewBox=\"0 0 24 24\"\n",
              "       width=\"24px\">\n",
              "    <path d=\"M0 0h24v24H0V0z\" fill=\"none\"/>\n",
              "    <path d=\"M18.56 5.44l.94 2.06.94-2.06 2.06-.94-2.06-.94-.94-2.06-.94 2.06-2.06.94zm-11 1L8.5 8.5l.94-2.06 2.06-.94-2.06-.94L8.5 2.5l-.94 2.06-2.06.94zm10 10l.94 2.06.94-2.06 2.06-.94-2.06-.94-.94-2.06-.94 2.06-2.06.94z\"/><path d=\"M17.41 7.96l-1.37-1.37c-.4-.4-.92-.59-1.43-.59-.52 0-1.04.2-1.43.59L10.3 9.45l-7.72 7.72c-.78.78-.78 2.05 0 2.83L4 21.41c.39.39.9.59 1.41.59.51 0 1.02-.2 1.41-.59l7.78-7.78 2.81-2.81c.8-.78.8-2.07 0-2.86zM5.41 20L4 18.59l7.72-7.72 1.47 1.35L5.41 20z\"/>\n",
              "  </svg>\n",
              "      </button>\n",
              "      \n",
              "  <style>\n",
              "    .colab-df-container {\n",
              "      display:flex;\n",
              "      flex-wrap:wrap;\n",
              "      gap: 12px;\n",
              "    }\n",
              "\n",
              "    .colab-df-convert {\n",
              "      background-color: #E8F0FE;\n",
              "      border: none;\n",
              "      border-radius: 50%;\n",
              "      cursor: pointer;\n",
              "      display: none;\n",
              "      fill: #1967D2;\n",
              "      height: 32px;\n",
              "      padding: 0 0 0 0;\n",
              "      width: 32px;\n",
              "    }\n",
              "\n",
              "    .colab-df-convert:hover {\n",
              "      background-color: #E2EBFA;\n",
              "      box-shadow: 0px 1px 2px rgba(60, 64, 67, 0.3), 0px 1px 3px 1px rgba(60, 64, 67, 0.15);\n",
              "      fill: #174EA6;\n",
              "    }\n",
              "\n",
              "    [theme=dark] .colab-df-convert {\n",
              "      background-color: #3B4455;\n",
              "      fill: #D2E3FC;\n",
              "    }\n",
              "\n",
              "    [theme=dark] .colab-df-convert:hover {\n",
              "      background-color: #434B5C;\n",
              "      box-shadow: 0px 1px 3px 1px rgba(0, 0, 0, 0.15);\n",
              "      filter: drop-shadow(0px 1px 2px rgba(0, 0, 0, 0.3));\n",
              "      fill: #FFFFFF;\n",
              "    }\n",
              "  </style>\n",
              "\n",
              "      <script>\n",
              "        const buttonEl =\n",
              "          document.querySelector('#df-1ee4a7e6-c2df-404e-a012-7097858744dd button.colab-df-convert');\n",
              "        buttonEl.style.display =\n",
              "          google.colab.kernel.accessAllowed ? 'block' : 'none';\n",
              "\n",
              "        async function convertToInteractive(key) {\n",
              "          const element = document.querySelector('#df-1ee4a7e6-c2df-404e-a012-7097858744dd');\n",
              "          const dataTable =\n",
              "            await google.colab.kernel.invokeFunction('convertToInteractive',\n",
              "                                                     [key], {});\n",
              "          if (!dataTable) return;\n",
              "\n",
              "          const docLinkHtml = 'Like what you see? Visit the ' +\n",
              "            '<a target=\"_blank\" href=https://colab.research.google.com/notebooks/data_table.ipynb>data table notebook</a>'\n",
              "            + ' to learn more about interactive tables.';\n",
              "          element.innerHTML = '';\n",
              "          dataTable['output_type'] = 'display_data';\n",
              "          await google.colab.output.renderOutput(dataTable, element);\n",
              "          const docLink = document.createElement('div');\n",
              "          docLink.innerHTML = docLinkHtml;\n",
              "          element.appendChild(docLink);\n",
              "        }\n",
              "      </script>\n",
              "    </div>\n",
              "  </div>\n",
              "  "
            ]
          },
          "metadata": {},
          "execution_count": 28
        }
      ],
      "source": [
        "# Lưu trữ tên cột và chỉ số dòng của DataFrame gốc\n",
        "names = df1.columns\n",
        "indexes = df1.index\n",
        "\n",
        "# Áp dụng MinMaxScaler cho các biến đầu vào (không bao gồm biến mục tiêu)\n",
        "scaler = MinMaxScaler(feature_range=(0, 1))\n",
        "df1_scaled = scaler.fit_transform(df1.iloc[:, :-1])  # Chỉ lấy các cột trừ biến mục tiêu\n",
        "\n",
        "# Tạo DataFrame mới từ dữ liệu đã được scaler và sử dụng lại tên cột và chỉ số dòng\n",
        "data_scaled = pd.DataFrame(df1_scaled, columns=names[:-1], index=indexes)\n",
        "\n",
        "# Ghép cột biến mục tiêu vào DataFrame đã được scaler\n",
        "data_scaled[df1.columns[-1]] = df1.iloc[:, -1]\n",
        "\n",
        "data_scaled.head()\n"
      ]
    },
    {
      "cell_type": "markdown",
      "metadata": {
        "id": "vnIy95Myv-hi"
      },
      "source": [
        "### Đánh giá mức độ tương quan\n"
      ]
    },
    {
      "cell_type": "markdown",
      "metadata": {
        "id": "OvqEweo3wS0p"
      },
      "source": [
        "Mức độ tương quan của các biến sẽ được xếp hạng một cách tương đối dựa trên giá trị tuyệt đối của chúng. Các khoảng đánh giá như sau:\n",
        "\n",
        "*   0-0.19: Rất yếu.\n",
        "*   0.2-0.39: Yếu.\n",
        "*   0.4-0.59: Trung bình.\n",
        "*   0.6-0.79: Cao.\n",
        "*   0.8-1: Rất cao.\n",
        "\n",
        "\n",
        "Dựa trên bảng hệ số tương quan chúng ta có thể tìm ra những biến có mối liên hệ lớn tới biến giá vé máy bay\n"
      ]
    },
    {
      "cell_type": "code",
      "execution_count": null,
      "metadata": {
        "colab": {
          "base_uri": "https://localhost:8080/",
          "height": 778
        },
        "id": "Ly_Kw9ziGU9o",
        "outputId": "023d9c8a-4b5f-43b2-f7bb-df5c20cc5431"
      },
      "outputs": [
        {
          "output_type": "display_data",
          "data": {
            "text/plain": [
              "<Figure size 1500x800 with 2 Axes>"
            ],
            "image/png": "[encoded data removed]"
          },
          "metadata": {}
        }
      ],
      "source": [
        "# Đánh giá mức độ tương quan\n",
        "plt.figure(figsize=(15,8))\n",
        "cor = data_scaled.corr()\n",
        "sns.heatmap(cor, annot=True, cmap='RdBu')\n",
        "plt.show()"
      ]
    },
    {
      "cell_type": "code",
      "execution_count": null,
      "metadata": {
        "colab": {
          "base_uri": "https://localhost:8080/"
        },
        "id": "3d2ym6Q6LZMe",
        "outputId": "1611b2a4-3f17-4c51-b081-a974bca7fe33"
      },
      "outputs": [
        {
          "output_type": "execute_result",
          "data": {
            "text/plain": [
              "price               1.000000\n",
              "class               0.937860\n",
              "airline             0.243358\n",
              "duration            0.204222\n",
              "stops               0.202620\n",
              "days_left           0.091949\n",
              "departure_time      0.058319\n",
              "arrival_time        0.042043\n",
              "destination_city    0.004795\n",
              "source_city         0.004594\n",
              "Name: price, dtype: float64"
            ]
          },
          "metadata": {},
          "execution_count": 30
        }
      ],
      "source": [
        "# Tương quan với giá biến mục tiêu\n",
        "cor_target = abs(cor[\"price\"])\n",
        "relevant_features = cor_target\n",
        "relevant_features = relevant_features.sort_values(ascending=False)\n",
        "relevant_features"
      ]
    },
    {
      "cell_type": "markdown",
      "metadata": {
        "id": "3fJm0lwNUeeW"
      },
      "source": [
        "Như vậy, theo hệ số tương quan Pearson, những feature có ảnh hưởng tới giá tiền (price) là class, airline, duration và stops."
      ]
    },
    {
      "cell_type": "markdown",
      "metadata": {
        "id": "yZPgrq3zz3go"
      },
      "source": [
        "### Sử dụng KBest Features"
      ]
    },
    {
      "cell_type": "code",
      "execution_count": null,
      "metadata": {
        "colab": {
          "base_uri": "https://localhost:8080/"
        },
        "id": "2kOujmETLgxR",
        "outputId": "f7677e9a-3175-4949-b3d6-855b52cda54c"
      },
      "outputs": [
        {
          "output_type": "stream",
          "name": "stdout",
          "text": [
            "Index(['airline', 'source_city', 'stops', 'destination_city', 'class'], dtype='object')\n"
          ]
        }
      ],
      "source": [
        "# Đặt 'price' làm biến mục tiêu\n",
        "y = data_scaled['price']\n",
        "\n",
        "# Các biến đầu vào\n",
        "X_data = data_scaled.drop(['price'], axis=1)\n",
        "selector = SelectKBest(f_classif, k=5)\n",
        "X_important = selector.fit_transform(X_data, y)\n",
        "\n",
        "# Chỉ số Index\n",
        "index = selector.get_support()\n",
        "\n",
        "# Tạo danh sách các biến\n",
        "important_feature_names = X_data.columns[index]\n",
        "\n",
        "print(important_feature_names)"
      ]
    },
    {
      "cell_type": "markdown",
      "metadata": {
        "id": "xULKCK67XS-k"
      },
      "source": [
        "Sử dụng kBest Features, những feature có ảnh hưởng tới giá tiền (price) là airline, source_city, stops, destination_city và class."
      ]
    },
    {
      "cell_type": "code",
      "execution_count": null,
      "metadata": {
        "colab": {
          "base_uri": "https://localhost:8080/",
          "height": 424
        },
        "id": "zGgodvEiZPJV",
        "outputId": "afed57d6-7145-4a47-ca3a-88d490ac791c"
      },
      "outputs": [
        {
          "output_type": "execute_result",
          "data": {
            "text/plain": [
              "        airline  source_city  departure_time  stops  arrival_time  \\\n",
              "0           0.8          0.4             0.4    1.0           1.0   \n",
              "1           0.8          0.4             0.2    1.0           0.8   \n",
              "2           0.0          0.4             0.2    1.0           0.2   \n",
              "3           1.0          0.4             0.8    1.0           0.0   \n",
              "4           1.0          0.4             0.8    1.0           0.8   \n",
              "...         ...          ...             ...    ...           ...   \n",
              "300148      1.0          0.2             0.8    0.0           0.4   \n",
              "300149      1.0          0.2             0.0    0.0           1.0   \n",
              "300150      1.0          0.2             0.2    0.0           1.0   \n",
              "300151      1.0          0.2             0.2    0.0           0.4   \n",
              "300152      1.0          0.2             0.8    0.0           0.4   \n",
              "\n",
              "        destination_city  class  duration  days_left  \n",
              "0                    1.0    1.0  0.027347        0.0  \n",
              "1                    1.0    1.0  0.030612        0.0  \n",
              "2                    1.0    1.0  0.027347        0.0  \n",
              "3                    1.0    1.0  0.028980        0.0  \n",
              "4                    1.0    1.0  0.030612        0.0  \n",
              "...                  ...    ...       ...        ...  \n",
              "300148               0.6    0.0  0.188776        1.0  \n",
              "300149               0.6    0.0  0.195714        1.0  \n",
              "300150               0.6    0.0  0.265306        1.0  \n",
              "300151               0.6    0.0  0.187143        1.0  \n",
              "300152               0.6    0.0  0.188776        1.0  \n",
              "\n",
              "[300153 rows x 9 columns]"
            ],
            "text/html": [
              "\n",
              "  <div id=\"df-5ddbef9f-96ca-4de5-814d-53e6e4a6c5b3\">\n",
              "    <div class=\"colab-df-container\">\n",
              "      <div>\n",
              "<style scoped>\n",
              "    .dataframe tbody tr th:only-of-type {\n",
              "        vertical-align: middle;\n",
              "    }\n",
              "\n",
              "    .dataframe tbody tr th {\n",
              "        vertical-align: top;\n",
              "    }\n",
              "\n",
              "    .dataframe thead th {\n",
              "        text-align: right;\n",
              "    }\n",
              "</style>\n",
              "<table border=\"1\" class=\"dataframe\">\n",
              "  <thead>\n",
              "    <tr style=\"text-align: right;\">\n",
              "      <th></th>\n",
              "      <th>airline</th>\n",
              "      <th>source_city</th>\n",
              "      <th>departure_time</th>\n",
              "      <th>stops</th>\n",
              "      <th>arrival_time</th>\n",
              "      <th>destination_city</th>\n",
              "      <th>class</th>\n",
              "      <th>duration</th>\n",
              "      <th>days_left</th>\n",
              "    </tr>\n",
              "  </thead>\n",
              "  <tbody>\n",
              "    <tr>\n",
              "      <th>0</th>\n",
              "      <td>0.8</td>\n",
              "      <td>0.4</td>\n",
              "      <td>0.4</td>\n",
              "      <td>1.0</td>\n",
              "      <td>1.0</td>\n",
              "      <td>1.0</td>\n",
              "      <td>1.0</td>\n",
              "      <td>0.027347</td>\n",
              "      <td>0.0</td>\n",
              "    </tr>\n",
              "    <tr>\n",
              "      <th>1</th>\n",
              "      <td>0.8</td>\n",
              "      <td>0.4</td>\n",
              "      <td>0.2</td>\n",
              "      <td>1.0</td>\n",
              "      <td>0.8</td>\n",
              "      <td>1.0</td>\n",
              "      <td>1.0</td>\n",
              "      <td>0.030612</td>\n",
              "      <td>0.0</td>\n",
              "    </tr>\n",
              "    <tr>\n",
              "      <th>2</th>\n",
              "      <td>0.0</td>\n",
              "      <td>0.4</td>\n",
              "      <td>0.2</td>\n",
              "      <td>1.0</td>\n",
              "      <td>0.2</td>\n",
              "      <td>1.0</td>\n",
              "      <td>1.0</td>\n",
              "      <td>0.027347</td>\n",
              "      <td>0.0</td>\n",
              "    </tr>\n",
              "    <tr>\n",
              "      <th>3</th>\n",
              "      <td>1.0</td>\n",
              "      <td>0.4</td>\n",
              "      <td>0.8</td>\n",
              "      <td>1.0</td>\n",
              "      <td>0.0</td>\n",
              "      <td>1.0</td>\n",
              "      <td>1.0</td>\n",
              "      <td>0.028980</td>\n",
              "      <td>0.0</td>\n",
              "    </tr>\n",
              "    <tr>\n",
              "      <th>4</th>\n",
              "      <td>1.0</td>\n",
              "      <td>0.4</td>\n",
              "      <td>0.8</td>\n",
              "      <td>1.0</td>\n",
              "      <td>0.8</td>\n",
              "      <td>1.0</td>\n",
              "      <td>1.0</td>\n",
              "      <td>0.030612</td>\n",
              "      <td>0.0</td>\n",
              "    </tr>\n",
              "    <tr>\n",
              "      <th>...</th>\n",
              "      <td>...</td>\n",
              "      <td>...</td>\n",
              "      <td>...</td>\n",
              "      <td>...</td>\n",
              "      <td>...</td>\n",
              "      <td>...</td>\n",
              "      <td>...</td>\n",
              "      <td>...</td>\n",
              "      <td>...</td>\n",
              "    </tr>\n",
              "    <tr>\n",
              "      <th>300148</th>\n",
              "      <td>1.0</td>\n",
              "      <td>0.2</td>\n",
              "      <td>0.8</td>\n",
              "      <td>0.0</td>\n",
              "      <td>0.4</td>\n",
              "      <td>0.6</td>\n",
              "      <td>0.0</td>\n",
              "      <td>0.188776</td>\n",
              "      <td>1.0</td>\n",
              "    </tr>\n",
              "    <tr>\n",
              "      <th>300149</th>\n",
              "      <td>1.0</td>\n",
              "      <td>0.2</td>\n",
              "      <td>0.0</td>\n",
              "      <td>0.0</td>\n",
              "      <td>1.0</td>\n",
              "      <td>0.6</td>\n",
              "      <td>0.0</td>\n",
              "      <td>0.195714</td>\n",
              "      <td>1.0</td>\n",
              "    </tr>\n",
              "    <tr>\n",
              "      <th>300150</th>\n",
              "      <td>1.0</td>\n",
              "      <td>0.2</td>\n",
              "      <td>0.2</td>\n",
              "      <td>0.0</td>\n",
              "      <td>1.0</td>\n",
              "      <td>0.6</td>\n",
              "      <td>0.0</td>\n",
              "      <td>0.265306</td>\n",
              "      <td>1.0</td>\n",
              "    </tr>\n",
              "    <tr>\n",
              "      <th>300151</th>\n",
              "      <td>1.0</td>\n",
              "      <td>0.2</td>\n",
              "      <td>0.2</td>\n",
              "      <td>0.0</td>\n",
              "      <td>0.4</td>\n",
              "      <td>0.6</td>\n",
              "      <td>0.0</td>\n",
              "      <td>0.187143</td>\n",
              "      <td>1.0</td>\n",
              "    </tr>\n",
              "    <tr>\n",
              "      <th>300152</th>\n",
              "      <td>1.0</td>\n",
              "      <td>0.2</td>\n",
              "      <td>0.8</td>\n",
              "      <td>0.0</td>\n",
              "      <td>0.4</td>\n",
              "      <td>0.6</td>\n",
              "      <td>0.0</td>\n",
              "      <td>0.188776</td>\n",
              "      <td>1.0</td>\n",
              "    </tr>\n",
              "  </tbody>\n",
              "</table>\n",
              "<p>300153 rows × 9 columns</p>\n",
              "</div>\n",
              "      <button class=\"colab-df-convert\" onclick=\"convertToInteractive('df-5ddbef9f-96ca-4de5-814d-53e6e4a6c5b3')\"\n",
              "              title=\"Convert this dataframe to an interactive table.\"\n",
              "              style=\"display:none;\">\n",
              "        \n",
              "  <svg xmlns=\"http://www.w3.org/2000/svg\" height=\"24px\"viewBox=\"0 0 24 24\"\n",
              "       width=\"24px\">\n",
              "    <path d=\"M0 0h24v24H0V0z\" fill=\"none\"/>\n",
              "    <path d=\"M18.56 5.44l.94 2.06.94-2.06 2.06-.94-2.06-.94-.94-2.06-.94 2.06-2.06.94zm-11 1L8.5 8.5l.94-2.06 2.06-.94-2.06-.94L8.5 2.5l-.94 2.06-2.06.94zm10 10l.94 2.06.94-2.06 2.06-.94-2.06-.94-.94-2.06-.94 2.06-2.06.94z\"/><path d=\"M17.41 7.96l-1.37-1.37c-.4-.4-.92-.59-1.43-.59-.52 0-1.04.2-1.43.59L10.3 9.45l-7.72 7.72c-.78.78-.78 2.05 0 2.83L4 21.41c.39.39.9.59 1.41.59.51 0 1.02-.2 1.41-.59l7.78-7.78 2.81-2.81c.8-.78.8-2.07 0-2.86zM5.41 20L4 18.59l7.72-7.72 1.47 1.35L5.41 20z\"/>\n",
              "  </svg>\n",
              "      </button>\n",
              "      \n",
              "  <style>\n",
              "    .colab-df-container {\n",
              "      display:flex;\n",
              "      flex-wrap:wrap;\n",
              "      gap: 12px;\n",
              "    }\n",
              "\n",
              "    .colab-df-convert {\n",
              "      background-color: #E8F0FE;\n",
              "      border: none;\n",
              "      border-radius: 50%;\n",
              "      cursor: pointer;\n",
              "      display: none;\n",
              "      fill: #1967D2;\n",
              "      height: 32px;\n",
              "      padding: 0 0 0 0;\n",
              "      width: 32px;\n",
              "    }\n",
              "\n",
              "    .colab-df-convert:hover {\n",
              "      background-color: #E2EBFA;\n",
              "      box-shadow: 0px 1px 2px rgba(60, 64, 67, 0.3), 0px 1px 3px 1px rgba(60, 64, 67, 0.15);\n",
              "      fill: #174EA6;\n",
              "    }\n",
              "\n",
              "    [theme=dark] .colab-df-convert {\n",
              "      background-color: #3B4455;\n",
              "      fill: #D2E3FC;\n",
              "    }\n",
              "\n",
              "    [theme=dark] .colab-df-convert:hover {\n",
              "      background-color: #434B5C;\n",
              "      box-shadow: 0px 1px 3px 1px rgba(0, 0, 0, 0.15);\n",
              "      filter: drop-shadow(0px 1px 2px rgba(0, 0, 0, 0.3));\n",
              "      fill: #FFFFFF;\n",
              "    }\n",
              "  </style>\n",
              "\n",
              "      <script>\n",
              "        const buttonEl =\n",
              "          document.querySelector('#df-5ddbef9f-96ca-4de5-814d-53e6e4a6c5b3 button.colab-df-convert');\n",
              "        buttonEl.style.display =\n",
              "          google.colab.kernel.accessAllowed ? 'block' : 'none';\n",
              "\n",
              "        async function convertToInteractive(key) {\n",
              "          const element = document.querySelector('#df-5ddbef9f-96ca-4de5-814d-53e6e4a6c5b3');\n",
              "          const dataTable =\n",
              "            await google.colab.kernel.invokeFunction('convertToInteractive',\n",
              "                                                     [key], {});\n",
              "          if (!dataTable) return;\n",
              "\n",
              "          const docLinkHtml = 'Like what you see? Visit the ' +\n",
              "            '<a target=\"_blank\" href=https://colab.research.google.com/notebooks/data_table.ipynb>data table notebook</a>'\n",
              "            + ' to learn more about interactive tables.';\n",
              "          element.innerHTML = '';\n",
              "          dataTable['output_type'] = 'display_data';\n",
              "          await google.colab.output.renderOutput(dataTable, element);\n",
              "          const docLink = document.createElement('div');\n",
              "          docLink.innerHTML = docLinkHtml;\n",
              "          element.appendChild(docLink);\n",
              "        }\n",
              "      </script>\n",
              "    </div>\n",
              "  </div>\n",
              "  "
            ]
          },
          "metadata": {},
          "execution_count": 32
        }
      ],
      "source": [
        "features = data_scaled.iloc[:, 0:9]\n",
        "features\n",
        "\n",
        "# features = data_scaled[['airline', 'source_city', 'stops', 'destination_city', 'class', 'duration', 'departure_time', 'arrival_time', 'days_left']]\n",
        "# features"
      ]
    },
    {
      "cell_type": "markdown",
      "metadata": {
        "id": "ZGJU5vlK1v5A"
      },
      "source": [
        "### Chia tập train và test"
      ]
    },
    {
      "cell_type": "code",
      "execution_count": null,
      "metadata": {
        "colab": {
          "base_uri": "https://localhost:8080/"
        },
        "id": "-z5A9HE8E2En",
        "outputId": "476b03b9-804f-43e7-c21b-e45ce930bc4c"
      },
      "outputs": [
        {
          "output_type": "execute_result",
          "data": {
            "text/plain": [
              "array([[0.8       , 0.4       , 0.4       , ..., 1.        , 0.02734694,\n",
              "        0.        ],\n",
              "       [0.8       , 0.4       , 0.2       , ..., 1.        , 0.03061224,\n",
              "        0.        ],\n",
              "       [0.        , 0.4       , 0.2       , ..., 1.        , 0.02734694,\n",
              "        0.        ],\n",
              "       ...,\n",
              "       [1.        , 0.2       , 0.2       , ..., 0.        , 0.26530612,\n",
              "        1.        ],\n",
              "       [1.        , 0.2       , 0.2       , ..., 0.        , 0.18714286,\n",
              "        1.        ],\n",
              "       [1.        , 0.2       , 0.8       , ..., 0.        , 0.18877551,\n",
              "        1.        ]])"
            ]
          },
          "metadata": {},
          "execution_count": 33
        }
      ],
      "source": [
        "# Chuyển đổi features thành mảng NumPy\n",
        "X = np.array(features)\n",
        "X"
      ]
    },
    {
      "cell_type": "code",
      "execution_count": null,
      "metadata": {
        "colab": {
          "base_uri": "https://localhost:8080/"
        },
        "id": "7kSop4k9FFid",
        "outputId": "81355ba8-a47d-4faf-9a5e-2ad2d5895800"
      },
      "outputs": [
        {
          "output_type": "execute_result",
          "data": {
            "text/plain": [
              "array([ 5953,  5953,  5956, ..., 79099, 81585, 81585])"
            ]
          },
          "metadata": {},
          "execution_count": 34
        }
      ],
      "source": [
        "# Chuyển đổi biến mục tiêu thành mảng NumPy\n",
        "y = np.array(data_scaled['price'])\n",
        "y"
      ]
    },
    {
      "cell_type": "code",
      "execution_count": null,
      "metadata": {
        "id": "Vu44dsWgFPST",
        "colab": {
          "base_uri": "https://localhost:8080/"
        },
        "outputId": "00d2ab4c-207d-4b82-a977-8bd2903bf197"
      },
      "outputs": [
        {
          "output_type": "execute_result",
          "data": {
            "text/plain": [
              "((225114, 9), (75039, 9), (225114,), (75039,))"
            ]
          },
          "metadata": {},
          "execution_count": 35
        }
      ],
      "source": [
        "# Chia tập train, test\n",
        "X_train, X_test, y_train, y_test = train_test_split(X, y, test_size=0.25, random_state=42)\n",
        "X_train.shape, X_test.shape, y_train.shape, y_test.shape"
      ]
    },
    {
      "cell_type": "markdown",
      "metadata": {
        "id": "Xdm8pEIjl-3b"
      },
      "source": [
        "# **II. Lập trình thử nghiệm thuật toán tối ưu hóa**"
      ]
    },
    {
      "cell_type": "markdown",
      "metadata": {
        "id": "XQr4kNOJE6-7"
      },
      "source": [
        "Các nhóm cần tự lập trình các thuật toán giảm gradient, accelerated gradient descent và Newton cho bài toán với độ dài bước cố định và độ dài bước theo backtracking.\n",
        "Cần thử nghiệm với nhiều con số khác nhau.\n",
        "Cần vẽ biểu đồ so sánh kết quả của các thử nghiệm này và đưa ra kết luận về setup nên lựa chọn tương tự như ở đây https://www.researchgate.net/figure/Comparison-of-Adam-to-Other-Optimization-Algorithms-Training-a-Multilayer-Perceptron_fig1_352322277. Trong đó trục tung là độ lớn hàm mục tiêu còn trục hoành là iterations và thời gian (vẽ 2 hình khác nhau).\n",
        "\n",
        "Đồng thời học viên cần so sánh về kết quả hàm mục tiêu và thời gian tính toán của code của mình với chế độ mặc định khi sử dụng thư viện sklearn (lưu ý là cần so sánh hàm mục tiêu của bài toán tối ưu hóa chứ không phải độ chính xác, các nhóm vẫn có thể so sánh thêm độ chính xác nếu muốn)."
      ]
    },
    {
      "cell_type": "markdown",
      "source": [
        "**Outline**"
      ],
      "metadata": {
        "id": "Ie7UXYkPrNkY"
      }
    },
    {
      "cell_type": "markdown",
      "source": [
        "Hàm tuyến tính với biến phản hồi là giá vé máy bay có dạng như sau:\n",
        "\n",
        "$$f(x_1,x_2,...,x_9) =  x_1.m_1 + x_2.m_2 +...+ x_9.m_9 + b $$\n",
        "\n",
        "\n",
        "> Với\n",
        "*  $x_i$ lần lượt là các biến phụ thuộc *(airline,\tsource_city,\tdeparture_time,\tstops,\tarrival_time,\tdestination_city,\tclass,\tduration, days_left)*\n",
        "*  $m_i$ là hệ số góc\n",
        "*  $b$ là hệ số chặn\n",
        "\n",
        "\n",
        "\n",
        "Để đơn giản hóa, chúng ta sẽ biểu diễn hàm trên dưới dạng vector như sau:\n",
        "$$f(X_b) = X_b.\\theta$$\n",
        "> Với:\n",
        "$$\\theta  =\n",
        "  \\left[\n",
        "    \\begin{array}{0}\n",
        "      {\\theta _0}\\\\\n",
        "      {\\theta _1}\\\\\n",
        "      \\vdots \\\\\n",
        "      {\\theta _{9}}\n",
        "    \\end{array}\n",
        "  \\right]\n",
        "  =\n",
        "  \\left[\n",
        "    \\begin{array}{1}\n",
        "      {b}\\\\\n",
        "      {m_1}\\\\\n",
        "      \\vdots \\\\\n",
        "      {m_9}\n",
        "    \\end{array}\n",
        "  \\right]\n",
        "  $$\n",
        "$$X_b =\n",
        "  \\left[\n",
        "    \\begin{array}{1}\n",
        "      {1}\\\\\n",
        "      {x_1}\\\\\n",
        "      \\vdots \\\\\n",
        "      {x_9}\n",
        "    \\end{array}\n",
        "  \\right]^T\n",
        "  $$"
      ],
      "metadata": {
        "id": "l5bdNhMjxrI3"
      }
    },
    {
      "cell_type": "code",
      "source": [
        "# def add_intercept_ones(X):\n",
        "#     intercept_ones = np.ones((len(X),1)) # array( [ [1],..,[1] ] )\n",
        "#     X_b = np.c_[intercept_ones,X] # Nối ma trận\n",
        "#     return X_b"
      ],
      "metadata": {
        "id": "yZquwkf-qq7m"
      },
      "execution_count": null,
      "outputs": []
    },
    {
      "cell_type": "markdown",
      "source": [
        "**1. Hàm tối ưu**\n",
        "1. Gradient Descent\n",
        "2. Accelerated Gradient Descent\n",
        "3. Newton"
      ],
      "metadata": {
        "id": "I_j13e3crto1"
      }
    },
    {
      "cell_type": "markdown",
      "source": [
        "**2. Đưa ra giá trị dự đoán**\n",
        "\n",
        "Ta phải tính các giá trị dự đoán của mô hình $f(X_b)$ với đầu vào là $X_b$ và $θ$ (hệ số của mô hình)."
      ],
      "metadata": {
        "id": "bs-95DJQsM7k"
      }
    },
    {
      "cell_type": "code",
      "source": [
        "# def create_function(theta):\n",
        "#     def f(X_b):\n",
        "#       return np.dot(X_b.T, theta)\n",
        "\n",
        "#     return f\n"
      ],
      "metadata": {
        "id": "I81jNqWqt3A9"
      },
      "execution_count": null,
      "outputs": []
    },
    {
      "cell_type": "markdown",
      "source": [
        "**3. Hàm mất mát (MSE)**\n",
        "\n",
        "Công thức MSE:\n",
        "\n",
        "$$MSE(m,b) = \\frac{1}{n}((y-y_{predicted})^T.(y-y_{predicted}))$$\n",
        "\n",
        "Với:\n",
        "\n",
        "*  $m$ là hệ số góc\n",
        "*  $b$ là hệ số chặn\n",
        "*  $y$ là vector chứa các giá trị thực tế.\n",
        "*  $y_{predicted}$ là vector chứa các giá trị dự đoán tương ứng với y.\n",
        "*  $n$ là số lượng mẫu của dữ liệu."
      ],
      "metadata": {
        "id": "6sc-LTV-lksW"
      }
    },
    {
      "cell_type": "code",
      "source": [
        "# # Hàm MSE\n",
        "# def mse(y, y_predicted):\n",
        "#     n = y.size\n",
        "#     error = y-y_predicted\n",
        "#     loss = 1/n * np.dot(error.T, error)\n",
        "#     return loss"
      ],
      "metadata": {
        "id": "ldOuXPOykRV5"
      },
      "execution_count": null,
      "outputs": []
    },
    {
      "cell_type": "markdown",
      "source": [
        "**4. Tối ưu hóa**\n",
        "\n",
        "\n",
        "Tính gradient của hàm mất mát MSE\n",
        "\n",
        "> Đạo hàm riêng theo m (hệ số góc):\n",
        "\n",
        "\n",
        "\n",
        "$$\\frac{\\partial{MSE}}{\\partial{m}} = (\\frac{-2}{n}) . \\sum_{i=1}^{n}((y_i - y_{predicted}) * x_i)$$\n",
        "\n",
        "> Đạo hàm riêng theo b (hệ số chặn):\n",
        "\n",
        "$$\\frac{\\partial{MSE}}{\\partial{b}} = (\\frac{-2}{n}) . \\sum_{i=1}^{n}((y_i - y_{predicted})))$$"
      ],
      "metadata": {
        "id": "nwRkbKcDvOfg"
      }
    },
    {
      "cell_type": "code",
      "source": [
        "# # Gradient của hàm MSE\n",
        "# def mse_derivative_m(X,y,y_predicted):\n",
        "#     return -(2/y.size) * sum(X * (y - y_predicted))\n",
        "\n",
        "# def mse_derivative_b(y,y_predicted):\n",
        "#     return -(2/y.size) * sum(y - y_predicted)"
      ],
      "metadata": {
        "id": "xIfGm2A-0ExE"
      },
      "execution_count": null,
      "outputs": []
    },
    {
      "cell_type": "markdown",
      "metadata": {
        "id": "clt7R0rW2iVw"
      },
      "source": [
        "## **1. Gradient Descent**##"
      ]
    },
    {
      "cell_type": "code",
      "source": [
        "# Giá trị dự đoán\n",
        "def f(m,x,b):\n",
        "    y_lst=[]\n",
        "    for i in range(len(x)):\n",
        "        y_lst.append(m @ x[i] + b)\n",
        "    return np.array(y_lst)"
      ],
      "metadata": {
        "id": "FITE40w-n7wd"
      },
      "execution_count": null,
      "outputs": []
    },
    {
      "cell_type": "code",
      "source": [
        "# Hàm mất mát MSE\n",
        "def MSE(y,y_predicted):\n",
        "    n=len(y)\n",
        "    s=0\n",
        "    for i in range(n):\n",
        "        s+=(y[i]-y_predicted[i])**2\n",
        "    return (1/n)*s"
      ],
      "metadata": {
        "id": "bHhlAw6coBzr"
      },
      "execution_count": null,
      "outputs": []
    },
    {
      "cell_type": "code",
      "source": [
        "# Gradient của hàm MSE\n",
        "def mse_derivative_m(x,y,y_predicted):\n",
        "    s=0\n",
        "    n=len(y)\n",
        "    for i in range(n):\n",
        "        s+=-x[i]*(y[i]-y_predicted[i])\n",
        "    return (2/n)*s\n",
        "\n",
        "def mse_derivative_b(y,y_predicted):\n",
        "    n=len(y)\n",
        "    s=0\n",
        "    for i in range(len(y)):\n",
        "        s+=-(y[i]-y_predicted[i])\n",
        "    return (2/n)*s"
      ],
      "metadata": {
        "id": "yOMjF1cQoY3z"
      },
      "execution_count": null,
      "outputs": []
    },
    {
      "cell_type": "code",
      "source": [
        "# Hàm gradient_descent với độ dài bước cố định\n",
        "def gradient_descent_fixed_step(x, y, number_of_iterations, learning_rate):\n",
        "    m=np.random.randn(x.shape[1])\n",
        "    b=0\n",
        "    n = len(x)\n",
        "    loss_hist=[]\n",
        "\n",
        "    for i in range(number_of_iterations):\n",
        "        # Dự báo và MSE\n",
        "        y_predicted = f(m,x,b)\n",
        "        loss_hist.append(mse(y,y_predicted))\n",
        "\n",
        "        # Tối ưu hóa\n",
        "        m = m - learning_rate * mse_derivative_m(x,y,y_predicted)\n",
        "        b = b - learning_rate * mse_derivative_b(y,y_predicted)\n",
        "\n",
        "\n",
        "    plt.plot(np.arange(1,number_of_iterations),loss_hist[1:])\n",
        "    plt.xlabel(\"number of iterations\")\n",
        "    plt.ylabel(\"traing cost\")\n",
        "\n",
        "    return m,b, mse"
      ],
      "metadata": {
        "id": "n6ptdXQQpW-o"
      },
      "execution_count": null,
      "outputs": []
    },
    {
      "cell_type": "code",
      "source": [
        "# Kiểm thử Hàm\n",
        "number_of_iterations = 50\n",
        "learning_rate = 10e-3\n",
        "gradient_descent_fixed_step(X_train, y_train, number_of_iterations, learning_rate)"
      ],
      "metadata": {
        "colab": {
          "base_uri": "https://localhost:8080/",
          "height": 322
        },
        "id": "H4oQRpJVt-8b",
        "outputId": "86b7f5c4-1049-4216-dbd7-bab479755710"
      },
      "execution_count": null,
      "outputs": [
        {
          "output_type": "error",
          "ename": "NameError",
          "evalue": "ignored",
          "traceback": [
            "\u001b[0;31m---------------------------------------------------------------------------\u001b[0m",
            "\u001b[0;31mNameError\u001b[0m                                 Traceback (most recent call last)",
            "\u001b[0;32m<ipython-input-44-fd95aa614721>\u001b[0m in \u001b[0;36m<cell line: 4>\u001b[0;34m()\u001b[0m\n\u001b[1;32m      2\u001b[0m \u001b[0mnumber_of_iterations\u001b[0m \u001b[0;34m=\u001b[0m \u001b[0;36m50\u001b[0m\u001b[0;34m\u001b[0m\u001b[0;34m\u001b[0m\u001b[0m\n\u001b[1;32m      3\u001b[0m \u001b[0mlearning_rate\u001b[0m \u001b[0;34m=\u001b[0m \u001b[0;36m10e-3\u001b[0m\u001b[0;34m\u001b[0m\u001b[0;34m\u001b[0m\u001b[0m\n\u001b[0;32m----> 4\u001b[0;31m \u001b[0mgradient_descent_fixed_step\u001b[0m\u001b[0;34m(\u001b[0m\u001b[0mX_train\u001b[0m\u001b[0;34m,\u001b[0m \u001b[0my_train\u001b[0m\u001b[0;34m,\u001b[0m \u001b[0mnumber_of_iterations\u001b[0m\u001b[0;34m,\u001b[0m \u001b[0mlearning_rate\u001b[0m\u001b[0;34m)\u001b[0m\u001b[0;34m\u001b[0m\u001b[0;34m\u001b[0m\u001b[0m\n\u001b[0m",
            "\u001b[0;32m<ipython-input-43-9012d65af5fc>\u001b[0m in \u001b[0;36mgradient_descent_fixed_step\u001b[0;34m(x, y, number_of_iterations, learning_rate)\u001b[0m\n\u001b[1;32m      9\u001b[0m         \u001b[0;31m# Dự báo và MSE\u001b[0m\u001b[0;34m\u001b[0m\u001b[0;34m\u001b[0m\u001b[0m\n\u001b[1;32m     10\u001b[0m         \u001b[0my_predicted\u001b[0m \u001b[0;34m=\u001b[0m \u001b[0mf\u001b[0m\u001b[0;34m(\u001b[0m\u001b[0mm\u001b[0m\u001b[0;34m,\u001b[0m\u001b[0mx\u001b[0m\u001b[0;34m,\u001b[0m\u001b[0mb\u001b[0m\u001b[0;34m)\u001b[0m\u001b[0;34m\u001b[0m\u001b[0;34m\u001b[0m\u001b[0m\n\u001b[0;32m---> 11\u001b[0;31m         \u001b[0mloss_hist\u001b[0m\u001b[0;34m.\u001b[0m\u001b[0mappend\u001b[0m\u001b[0;34m(\u001b[0m\u001b[0mmse\u001b[0m\u001b[0;34m(\u001b[0m\u001b[0my\u001b[0m\u001b[0;34m,\u001b[0m\u001b[0my_predicted\u001b[0m\u001b[0;34m)\u001b[0m\u001b[0;34m)\u001b[0m\u001b[0;34m\u001b[0m\u001b[0;34m\u001b[0m\u001b[0m\n\u001b[0m\u001b[1;32m     12\u001b[0m \u001b[0;34m\u001b[0m\u001b[0m\n\u001b[1;32m     13\u001b[0m         \u001b[0;31m# Tối ưu hóa\u001b[0m\u001b[0;34m\u001b[0m\u001b[0;34m\u001b[0m\u001b[0m\n",
            "\u001b[0;31mNameError\u001b[0m: name 'mse' is not defined"
          ]
        }
      ]
    },
    {
      "cell_type": "code",
      "source": [
        "# def gradient_descent(X, y, theta, mse, number_of_iterations, learning_rate):\n",
        "#     X_b = add_intercept_ones(X)\n",
        "#     for i in range(number_of_iterations):\n",
        "\n",
        "#         # Dự báo và tính MSE\n",
        "#         f = create_function(theta) # Tạo hàm tính hiện tại\n",
        "#         y_predicted = f(X_b) # Dự báo X\n",
        "#         loss = mse(y_train,y_predicted) # Tính MSE\n",
        "\n",
        "#         # Tối ưu hóa\n",
        "#         gradient = np.array([mse_derivative_b(y,y_predicted), mse_derivative_m(X,y,y_predicted)]) # Tính gradient MSE\n",
        "#         theta = theta - learning_rate * gradient # Điều chỉnh m và b\n",
        "\n",
        "#     return theta"
      ],
      "metadata": {
        "id": "AbWvA_y5jgPr"
      },
      "execution_count": null,
      "outputs": []
    },
    {
      "cell_type": "code",
      "source": [
        "# theta = np.zeros(10)\n",
        "# number_of_iterations = 25\n",
        "# learning_rate = 0.001\n",
        "# optimize_theta = gradient_descent(X_train, y_train, theta, mse, number_of_iterations, learning_rate)"
      ],
      "metadata": {
        "id": "Z63NLGunj8Yw"
      },
      "execution_count": null,
      "outputs": []
    },
    {
      "cell_type": "code",
      "execution_count": null,
      "metadata": {
        "id": "BNTamUdml-Gz"
      },
      "outputs": [],
      "source": [
        "#Function For EarlyStopping\n",
        "def EarlyStopping(loss):\n",
        "    for i in range(1, len(loss)):\n",
        "        yield (loss[i-1], loss[i])\n",
        "\n",
        "#Creation of Batches\n",
        "def batch_size(batchsize, X):\n",
        "    batches = round(X.shape[0]//batchsize)\n",
        "    return batches\n",
        "\n",
        "#Gradient Descent Function\n",
        "def regression_gradient_descent(X_train, y_train, m, b):\n",
        "    yhat = np.dot(X_train,m) + b                                      #Predictions\n",
        "    MSE = (np.sum((y_train-yhat)**2))/N                               #Error\n",
        "    r_squared = r2_score(y_train,yhat)\n",
        "    loss_slope_b = -(2/N)*sum(y_train-yhat)                           #wrt to b aka intercept\n",
        "    loss_slope_m = -(2/N)*(np.dot((y_train - yhat),X_train))          #wrt to the slope of the line\n",
        "    m = m - (learning_rate*loss_slope_m)\n",
        "    b = b - (learning_rate*loss_slope_b)\n",
        "    return m, b, MSE, r_squared"
      ]
    },
    {
      "cell_type": "code",
      "execution_count": null,
      "metadata": {
        "id": "wDk8PjjitgUf"
      },
      "outputs": [],
      "source": [
        "from sklearn.metrics import r2_score\n",
        "np.random.seed(0)\n",
        "N = X.shape[0]\n",
        "learning_rate=0.2\n",
        "decay_rate =  0.01\n",
        "LR = []\n",
        "ValidationLoss = []\n",
        "Trainingloss = []\n",
        "batchsize = 30\n",
        "Intercept = []\n",
        "Slope = []\n",
        "m=np.ones(X.shape[1])                  #initializing some values of slope\n",
        "b=1                                     #initializing some values of intercept\n",
        "print('The initial Value of w and b are', m, b)\n",
        "batches = batch_size(batchsize, X)\n",
        "for i in range(2000):\n",
        "    epoch = i\n",
        "    for j in range(batches):\n",
        "        if i==0:\n",
        "\n",
        "            #Updating the params at certain intervals in an epoch\n",
        "            if j % batchsize==0:\n",
        "                learning_rate = learning_rate\n",
        "                np.random.seed(0)\n",
        "                np.random.shuffle([X_train, y_train])\n",
        "                m, b, MSE, r_squared = regression_gradient_descent(X_train, y_train, m, b)\n",
        "                m_test, b_test, MSE_test, r_squared_test = regression_gradient_descent(X_test, y_test, m, b)\n",
        "            else:\n",
        "                m = m\n",
        "                b = b\n",
        "\n",
        "        else:\n",
        "\n",
        "            #Updating the params at certain intervals in an epoch\n",
        "            if j % batchsize==0:\n",
        "                learning_rate = [(1/(1+decay_rate))* learning_rate for j in range(batches)][0]\n",
        "                np.random.seed(0)\n",
        "                np.random.shuffle([X_train, y_train])\n",
        "                m, b, MSE, r_squared = regression_gradient_descent(X_train, y_train, m, b)\n",
        "                m_test, b_test, MSE_test, r_squared_test = regression_gradient_descent(X_test, y_test, m, b)\n",
        "            else:\n",
        "                m = m\n",
        "                b = b\n",
        "\n",
        "    Intercept.append(b)\n",
        "    Slope.append(m)\n",
        "    Trainingloss.append(MSE)\n",
        "    ValidationLoss.append(MSE_test)\n",
        "    LR.append(learning_rate)\n",
        "\n",
        "    if i % 20 == 0:\n",
        "        print('===> Epoch: ',i,' Loss: ',\"{:.2e}\".format(MSE), ' Val Loss: ',\"{:.2e}\".format(MSE_test),\n",
        "              ' R-Squared:', round(r_squared,4), ' Val R-Squared: ', round(r_squared_test,4))\n",
        "\n",
        "    #Early Stopping Mechanism\n",
        "    for prev, curr  in EarlyStopping(ValidationLoss):\n",
        "        if prev - curr<1e-6:\n",
        "            print('-- Early Stopping at Epoch',i,'with Val Loss', np.around(MSE_test,5),\n",
        "                  'and Val R-Squared', np.around(r_squared_test,5), '--')\n",
        "            break                  #Inner Loop Break\n",
        "    else:\n",
        "        continue                   # executed if the inner loop did NOT break\n",
        "    break                          # executed if the inner loop DID break\n",
        "print('The final estimates of w and b are',m, b)"
      ]
    },
    {
      "cell_type": "code",
      "execution_count": null,
      "metadata": {
        "id": "EmSfirUsuuNB"
      },
      "outputs": [],
      "source": [
        "coefficient  = (Slope[epoch])\n",
        "intercept = (Intercept[epoch])\n",
        "y_pred = np.dot(X_test, coefficient)+intercept      #Predictions\n",
        "df = pd.DataFrame(y_pred, y_test, columns=['y']).reset_index().rename(columns = {'index':'y','y':'y_pred'})\n",
        "\n",
        "#Plotting the Figures\n",
        "fig, (ax1, ax2, ax3) = plt.subplots(1, 3, figsize=(22,5))\n",
        "fig.subplots_adjust(hspace = .2, wspace=.3)\n",
        "\n",
        "#First Plot\n",
        "ax1.plot(Trainingloss, linestyle='--')\n",
        "ax1.set_title(\"Training Loss Plot, Regression\")\n",
        "ax1.set_xlabel('Epoch')\n",
        "ax1.set_ylabel('Training Loss')\n",
        "\n",
        "#second plot\n",
        "ax2.plot(ValidationLoss, 'tab:orange', linestyle='dashed', markersize=5)\n",
        "ax2.set_title(\"Validation Loss Plot, Regression\")\n",
        "ax2.set_xlabel('Epoch')\n",
        "ax2.set_ylabel('Validation Loss')\n",
        "\n",
        "#third Plot\n",
        "ax3 = sns.regplot(data=df, x=df['y'],y=df['y_pred'], color='lightgray', fit_reg=True)\n",
        "ax3.lines[0].set_color('red')\n",
        "ax3.set_title('Targets vs Prediction, Regression')\n",
        "ax3.set_xlabel('Targets')\n",
        "ax3.set_ylabel('Prediction')\n",
        "\n",
        "plt.show()"
      ]
    },
    {
      "cell_type": "markdown",
      "metadata": {
        "id": "uekpquSv246m"
      },
      "source": [
        "## **2. Accelerated Gradient Descent**\n"
      ]
    },
    {
      "cell_type": "markdown",
      "metadata": {
        "id": "mzIM61SvmNHU"
      },
      "source": [
        "## **3. Newton**"
      ]
    },
    {
      "cell_type": "code",
      "execution_count": null,
      "metadata": {
        "id": "_gP9k0T9CtYV"
      },
      "outputs": [],
      "source": [
        "#Newton Raphson Function\n",
        "def regression_newton_raphson(X_train, y_train, m, b):\n",
        "    yhat = np.dot(X_train, m) + b\n",
        "    MSE = (np.sum((y_train - yhat)**2)) / N\n",
        "    r_squared = r2_score(y_train, yhat)\n",
        "    grad = np.array([-2 * np.sum(y_train - yhat), -2 * np.dot(y_train - yhat, X_train)])\n",
        "    H = np.array([[2 * N, 2 * np.sum(X_train)], [2 * np.sum(X_train), 2 * np.dot(X_train.T, X_train)]])\n",
        "    theta_prev = np.array([b, m])\n",
        "\n",
        "    for i in range(max_iter):\n",
        "        H_inv = np.linalg.inv(H)\n",
        "        theta = theta_prev - np.dot(H_inv, grad)\n",
        "        y_pred = np.dot(X_train, theta[1]) + theta[0]\n",
        "        MSE_new = (np.sum((y_train - y_pred)**2)) / N\n",
        "\n",
        "        if np.abs(MSE_new - MSE) < tol:\n",
        "            break\n",
        "\n",
        "        MSE = MSE_new\n",
        "        grad = np.array([-2 * np.sum(y_train - y_pred), -2 * np.dot(y_train - y_pred, X_train)])\n",
        "        H = np.array([[2 * N, 2 * np.sum(X_train)], [2 * np.sum(X_train), 2 * np.dot(X_train.T, X_train)]])\n",
        "        theta_prev = theta\n",
        "\n",
        "    b_new, m_new = theta[0], theta[1]\n",
        "    r_squared_new = r2_score(y_train, y_pred)\n",
        "\n",
        "    return m_new, b_new, MSE, r_squared_new"
      ]
    },
    {
      "cell_type": "code",
      "execution_count": null,
      "metadata": {
        "id": "S58ZfoyDDW6K"
      },
      "outputs": [],
      "source": [
        "print('The final estimates of w and b are',m_new, b_new)"
      ]
    },
    {
      "cell_type": "markdown",
      "metadata": {
        "id": "FMhGg5-UmS96"
      },
      "source": [
        "## **4. So sánh**"
      ]
    },
    {
      "cell_type": "markdown",
      "metadata": {
        "id": "k-Tzb_l0mcPK"
      },
      "source": [
        "# **III. Kết luận**"
      ]
    }
  ],
  "metadata": {
    "colab": {
      "provenance": [],
      "include_colab_link": true
    },
    "kernelspec": {
      "display_name": "Python 3",
      "name": "python3"
    },
    "language_info": {
      "name": "python"
    }
  },
  "nbformat": 4,
  "nbformat_minor": 0
}